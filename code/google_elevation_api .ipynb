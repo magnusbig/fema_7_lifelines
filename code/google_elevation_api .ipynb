{
 "cells": [
  {
   "cell_type": "code",
   "execution_count": 1,
   "metadata": {},
   "outputs": [],
   "source": [
    "# Collect Elevation Code\n",
    "\n",
    "import requests\n",
    "\n",
    "#Google Elevation API Key\n",
    "key = 'xxx' #Enter API key here\n",
    "\n",
    "# url for Google Elevation API\n",
    "base_url = 'https://maps.googleapis.com/maps/api/elevation/json?'\n",
    "\n",
    "# function that returns the elevation in meters above sea-level of a set of given lat/lng coordinates\n",
    "# takes inputes (latitude, longitude, API key)\n",
    "\n",
    "def get_elevation(lat,lng,key):\n",
    "    call = requests.get(base_url + 'locations='+str(lat)+','+str(lng)+'&key='+key)\n",
    "    result = call.json()\n",
    "    return result['results'][0]['elevation']\n",
    "\n",
    "### Example ###\n",
    "# 39.7555° N, 105.2211° W\n",
    "#get_elevation(39.7555,-105.2211,key)\n",
    "# Notice the longitude coordinate for W is negative!"
   ]
  }
 ],
 "metadata": {
  "kernelspec": {
   "display_name": "Python 3",
   "language": "python",
   "name": "python3"
  },
  "language_info": {
   "codemirror_mode": {
    "name": "ipython",
    "version": 3
   },
   "file_extension": ".py",
   "mimetype": "text/x-python",
   "name": "python",
   "nbconvert_exporter": "python",
   "pygments_lexer": "ipython3",
   "version": "3.7.4"
  }
 },
 "nbformat": 4,
 "nbformat_minor": 2
}
