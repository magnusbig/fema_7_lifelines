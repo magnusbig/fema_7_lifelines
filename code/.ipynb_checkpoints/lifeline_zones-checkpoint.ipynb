{
 "cells": [
  {
   "cell_type": "code",
   "execution_count": 1,
   "metadata": {},
   "outputs": [],
   "source": [
    "import pandas as pd\n",
    "import matplotlib.pyplot as plt\n",
    "import numpy as np"
   ]
  },
  {
   "cell_type": "code",
   "execution_count": 2,
   "metadata": {},
   "outputs": [],
   "source": [
    "data = pd.read_csv('../data/data_with_lifeline_info_20200214.csv')"
   ]
  },
  {
   "cell_type": "code",
   "execution_count": 3,
   "metadata": {
    "scrolled": true
   },
   "outputs": [
    {
     "data": {
      "text/html": [
       "<div>\n",
       "<style scoped>\n",
       "    .dataframe tbody tr th:only-of-type {\n",
       "        vertical-align: middle;\n",
       "    }\n",
       "\n",
       "    .dataframe tbody tr th {\n",
       "        vertical-align: top;\n",
       "    }\n",
       "\n",
       "    .dataframe thead th {\n",
       "        text-align: right;\n",
       "    }\n",
       "</style>\n",
       "<table border=\"1\" class=\"dataframe\">\n",
       "  <thead>\n",
       "    <tr style=\"text-align: right;\">\n",
       "      <th></th>\n",
       "      <th>geometry</th>\n",
       "      <th>name</th>\n",
       "      <th>plus_code</th>\n",
       "      <th>types</th>\n",
       "      <th>vicinity</th>\n",
       "      <th>latitude</th>\n",
       "      <th>longitude</th>\n",
       "      <th>lifeline_number</th>\n",
       "      <th>lifeline_category</th>\n",
       "    </tr>\n",
       "  </thead>\n",
       "  <tbody>\n",
       "    <tr>\n",
       "      <th>0</th>\n",
       "      <td>{'location': {'lat': 39.60806830000001, 'lng':...</td>\n",
       "      <td>Arapahoe Community College</td>\n",
       "      <td>{'compound_code': 'JX5J+6F Littleton, Colorado...</td>\n",
       "      <td>['university', 'point_of_interest', 'establish...</td>\n",
       "      <td>5900 South Santa Fe Drive, Littleton</td>\n",
       "      <td>39.608068</td>\n",
       "      <td>-105.018845</td>\n",
       "      <td>1</td>\n",
       "      <td>safety_security</td>\n",
       "    </tr>\n",
       "    <tr>\n",
       "      <th>1</th>\n",
       "      <td>{'location': {'lat': 39.6083415, 'lng': -105.0...</td>\n",
       "      <td>Arapahoe Community Clg Library</td>\n",
       "      <td>{'compound_code': 'JX5J+89 Littleton, Colorado...</td>\n",
       "      <td>['library', 'point_of_interest', 'establishment']</td>\n",
       "      <td>5900 South Santa Fe Drive, Littleton</td>\n",
       "      <td>39.608342</td>\n",
       "      <td>-105.019121</td>\n",
       "      <td>1</td>\n",
       "      <td>safety_security</td>\n",
       "    </tr>\n",
       "    <tr>\n",
       "      <th>2</th>\n",
       "      <td>{'location': {'lat': 39.6128785, 'lng': -105.0...</td>\n",
       "      <td>Arapahoe County Court</td>\n",
       "      <td>{'compound_code': 'JX7R+5F Littleton, Colorado...</td>\n",
       "      <td>['courthouse', 'point_of_interest', 'establish...</td>\n",
       "      <td>1790 West Littleton Boulevard, Littleton</td>\n",
       "      <td>39.612879</td>\n",
       "      <td>-105.008854</td>\n",
       "      <td>1</td>\n",
       "      <td>safety_security</td>\n",
       "    </tr>\n",
       "    <tr>\n",
       "      <th>3</th>\n",
       "      <td>{'location': {'lat': 39.61367430000001, 'lng':...</td>\n",
       "      <td>Littleton Municipal Court</td>\n",
       "      <td>{'compound_code': 'JX7Q+F3 Littleton, Colorado...</td>\n",
       "      <td>['courthouse', 'local_government_office', 'poi...</td>\n",
       "      <td>2069 West Littleton Boulevard, Littleton</td>\n",
       "      <td>39.613674</td>\n",
       "      <td>-105.012340</td>\n",
       "      <td>1</td>\n",
       "      <td>safety_security</td>\n",
       "    </tr>\n",
       "    <tr>\n",
       "      <th>4</th>\n",
       "      <td>{'location': {'lat': 39.613889, 'lng': -104.98...</td>\n",
       "      <td>Littleton High School</td>\n",
       "      <td>{'compound_code': 'J278+H3 Littleton, Colorado...</td>\n",
       "      <td>['secondary_school', 'school', 'point_of_inter...</td>\n",
       "      <td>199 East Littleton Boulevard, Littleton</td>\n",
       "      <td>39.613889</td>\n",
       "      <td>-104.984865</td>\n",
       "      <td>1</td>\n",
       "      <td>safety_security</td>\n",
       "    </tr>\n",
       "  </tbody>\n",
       "</table>\n",
       "</div>"
      ],
      "text/plain": [
       "                                            geometry  \\\n",
       "0  {'location': {'lat': 39.60806830000001, 'lng':...   \n",
       "1  {'location': {'lat': 39.6083415, 'lng': -105.0...   \n",
       "2  {'location': {'lat': 39.6128785, 'lng': -105.0...   \n",
       "3  {'location': {'lat': 39.61367430000001, 'lng':...   \n",
       "4  {'location': {'lat': 39.613889, 'lng': -104.98...   \n",
       "\n",
       "                             name  \\\n",
       "0      Arapahoe Community College   \n",
       "1  Arapahoe Community Clg Library   \n",
       "2           Arapahoe County Court   \n",
       "3       Littleton Municipal Court   \n",
       "4           Littleton High School   \n",
       "\n",
       "                                           plus_code  \\\n",
       "0  {'compound_code': 'JX5J+6F Littleton, Colorado...   \n",
       "1  {'compound_code': 'JX5J+89 Littleton, Colorado...   \n",
       "2  {'compound_code': 'JX7R+5F Littleton, Colorado...   \n",
       "3  {'compound_code': 'JX7Q+F3 Littleton, Colorado...   \n",
       "4  {'compound_code': 'J278+H3 Littleton, Colorado...   \n",
       "\n",
       "                                               types  \\\n",
       "0  ['university', 'point_of_interest', 'establish...   \n",
       "1  ['library', 'point_of_interest', 'establishment']   \n",
       "2  ['courthouse', 'point_of_interest', 'establish...   \n",
       "3  ['courthouse', 'local_government_office', 'poi...   \n",
       "4  ['secondary_school', 'school', 'point_of_inter...   \n",
       "\n",
       "                                   vicinity   latitude   longitude  \\\n",
       "0      5900 South Santa Fe Drive, Littleton  39.608068 -105.018845   \n",
       "1      5900 South Santa Fe Drive, Littleton  39.608342 -105.019121   \n",
       "2  1790 West Littleton Boulevard, Littleton  39.612879 -105.008854   \n",
       "3  2069 West Littleton Boulevard, Littleton  39.613674 -105.012340   \n",
       "4   199 East Littleton Boulevard, Littleton  39.613889 -104.984865   \n",
       "\n",
       "   lifeline_number lifeline_category  \n",
       "0                1   safety_security  \n",
       "1                1   safety_security  \n",
       "2                1   safety_security  \n",
       "3                1   safety_security  \n",
       "4                1   safety_security  "
      ]
     },
     "execution_count": 3,
     "metadata": {},
     "output_type": "execute_result"
    }
   ],
   "source": [
    "data.head()"
   ]
  },
  {
   "cell_type": "markdown",
   "metadata": {},
   "source": [
    "## Investigate sub-areas based on lifeline types"
   ]
  },
  {
   "cell_type": "code",
   "execution_count": 4,
   "metadata": {
    "scrolled": false
   },
   "outputs": [
    {
     "data": {
      "text/plain": [
       "1    260\n",
       "2    234\n",
       "6    155\n",
       "3    109\n",
       "5     35\n",
       "4     20\n",
       "Name: lifeline_number, dtype: int64"
      ]
     },
     "execution_count": 4,
     "metadata": {},
     "output_type": "execute_result"
    }
   ],
   "source": [
    "# check number of lifelines\n",
    "data['lifeline_number'].value_counts()"
   ]
  },
  {
   "cell_type": "code",
   "execution_count": 5,
   "metadata": {},
   "outputs": [],
   "source": [
    "# plot hospitals \n",
    "health_medical = data[data['lifeline_number'] == 3]"
   ]
  },
  {
   "cell_type": "code",
   "execution_count": 6,
   "metadata": {},
   "outputs": [
    {
     "name": "stdout",
     "output_type": "stream",
     "text": [
      "['hospital', 'point_of_interest', 'establishment']\n",
      "['hospital', 'point_of_interest', 'establishment']\n",
      "['hospital', 'airport', 'point_of_interest', 'establishment']\n",
      "['hospital', 'health', 'point_of_interest', 'establishment']\n",
      "['hospital', 'health', 'point_of_interest', 'establishment']\n",
      "['hospital', 'point_of_interest', 'establishment']\n",
      "['hospital', 'doctor', 'local_government_office', 'health', 'point_of_interest', 'establishment']\n",
      "['hospital', 'point_of_interest', 'establishment']\n",
      "['hospital', 'point_of_interest', 'establishment']\n",
      "['hospital', 'doctor', 'health', 'point_of_interest', 'establishment']\n",
      "['hospital', 'point_of_interest', 'establishment']\n",
      "['hospital', 'university', 'health', 'point_of_interest', 'establishment']\n",
      "['hospital', 'health', 'point_of_interest', 'establishment']\n",
      "['hospital', 'point_of_interest', 'establishment']\n",
      "['hospital', 'point_of_interest', 'establishment']\n",
      "['hospital', 'point_of_interest', 'establishment']\n",
      "['hospital', 'point_of_interest', 'establishment']\n"
     ]
    }
   ],
   "source": [
    "for i in health_medical['types']:\n",
    "    if 'hospital' in i:\n",
    "        print(i)"
   ]
  },
  {
   "cell_type": "code",
   "execution_count": 7,
   "metadata": {},
   "outputs": [],
   "source": [
    "hospitals_index = []\n",
    "for i in range(len(data)):\n",
    "     if 'hospital' in data.loc[i]['types']:\n",
    "        hospitals_index.append(i)"
   ]
  },
  {
   "cell_type": "code",
   "execution_count": 8,
   "metadata": {
    "scrolled": false
   },
   "outputs": [
    {
     "data": {
      "text/plain": [
       "[126,\n",
       " 170,\n",
       " 503,\n",
       " 504,\n",
       " 536,\n",
       " 537,\n",
       " 545,\n",
       " 546,\n",
       " 548,\n",
       " 551,\n",
       " 557,\n",
       " 563,\n",
       " 564,\n",
       " 565,\n",
       " 567,\n",
       " 570,\n",
       " 576,\n",
       " 577,\n",
       " 587,\n",
       " 698]"
      ]
     },
     "execution_count": 8,
     "metadata": {},
     "output_type": "execute_result"
    }
   ],
   "source": [
    "hospitals_index"
   ]
  },
  {
   "cell_type": "code",
   "execution_count": 9,
   "metadata": {
    "scrolled": true
   },
   "outputs": [
    {
     "data": {
      "text/html": [
       "<div>\n",
       "<style scoped>\n",
       "    .dataframe tbody tr th:only-of-type {\n",
       "        vertical-align: middle;\n",
       "    }\n",
       "\n",
       "    .dataframe tbody tr th {\n",
       "        vertical-align: top;\n",
       "    }\n",
       "\n",
       "    .dataframe thead th {\n",
       "        text-align: right;\n",
       "    }\n",
       "</style>\n",
       "<table border=\"1\" class=\"dataframe\">\n",
       "  <thead>\n",
       "    <tr style=\"text-align: right;\">\n",
       "      <th></th>\n",
       "      <th>geometry</th>\n",
       "      <th>name</th>\n",
       "      <th>plus_code</th>\n",
       "      <th>types</th>\n",
       "      <th>vicinity</th>\n",
       "      <th>latitude</th>\n",
       "      <th>longitude</th>\n",
       "      <th>lifeline_number</th>\n",
       "      <th>lifeline_category</th>\n",
       "    </tr>\n",
       "  </thead>\n",
       "  <tbody>\n",
       "    <tr>\n",
       "      <th>126</th>\n",
       "      <td>{'location': {'lat': 39.730754, 'lng': -104.93...</td>\n",
       "      <td>Ninth Avenue Internal Medicine</td>\n",
       "      <td>{'compound_code': 'P3J8+87 Denver, Colorado, U...</td>\n",
       "      <td>['hospital', 'doctor', 'local_government_offic...</td>\n",
       "      <td>4500 East 9th Avenue #140, Denver</td>\n",
       "      <td>39.730754</td>\n",
       "      <td>-104.934277</td>\n",
       "      <td>1</td>\n",
       "      <td>safety_security</td>\n",
       "    </tr>\n",
       "    <tr>\n",
       "      <th>170</th>\n",
       "      <td>{'location': {'lat': 39.743954, 'lng': -104.83...</td>\n",
       "      <td>University of Colorado Anschutz Medical Campus...</td>\n",
       "      <td>{'compound_code': 'P5V6+HX Aurora, Colorado, U...</td>\n",
       "      <td>['hospital', 'university', 'health', 'point_of...</td>\n",
       "      <td>13001 East 17th Place Mail Stop F413 Room CG00...</td>\n",
       "      <td>39.743954</td>\n",
       "      <td>-104.837609</td>\n",
       "      <td>1</td>\n",
       "      <td>safety_security</td>\n",
       "    </tr>\n",
       "    <tr>\n",
       "      <th>503</th>\n",
       "      <td>{'location': {'lat': 39.65388480000001, 'lng':...</td>\n",
       "      <td>Swedish Medical Center</td>\n",
       "      <td>{'compound_code': 'M239+HQ Englewood, Colorado...</td>\n",
       "      <td>['hospital', 'point_of_interest', 'establishme...</td>\n",
       "      <td>501 East Hampden Avenue, Englewood</td>\n",
       "      <td>39.653885</td>\n",
       "      <td>-104.980587</td>\n",
       "      <td>3</td>\n",
       "      <td>health_medical</td>\n",
       "    </tr>\n",
       "    <tr>\n",
       "      <th>504</th>\n",
       "      <td>{'location': {'lat': 39.65427, 'lng': -104.978...</td>\n",
       "      <td>Craig Hospital</td>\n",
       "      <td>{'compound_code': 'M23C+PC Englewood, Colorado...</td>\n",
       "      <td>['hospital', 'point_of_interest', 'establishme...</td>\n",
       "      <td>3425 South Clarkson Street, Englewood</td>\n",
       "      <td>39.654270</td>\n",
       "      <td>-104.978889</td>\n",
       "      <td>3</td>\n",
       "      <td>health_medical</td>\n",
       "    </tr>\n",
       "    <tr>\n",
       "      <th>536</th>\n",
       "      <td>{'location': {'lat': 39.7158522, 'lng': -105.1...</td>\n",
       "      <td>Saint Anthony Hospital Central Heliport</td>\n",
       "      <td>{'compound_code': 'PV8C+8G Lakewood, Colorado,...</td>\n",
       "      <td>['hospital', 'airport', 'point_of_interest', '...</td>\n",
       "      <td>11600 West 2nd Place, Lakewood</td>\n",
       "      <td>39.715852</td>\n",
       "      <td>-105.128649</td>\n",
       "      <td>3</td>\n",
       "      <td>health_medical</td>\n",
       "    </tr>\n",
       "    <tr>\n",
       "      <th>537</th>\n",
       "      <td>{'location': {'lat': 39.7163135, 'lng': -105.1...</td>\n",
       "      <td>St. Anthony Hospital</td>\n",
       "      <td>{'compound_code': 'PV8C+G7 Lakewood, Colorado,...</td>\n",
       "      <td>['hospital', 'health', 'point_of_interest', 'e...</td>\n",
       "      <td>11600 West 2nd Place, Lakewood</td>\n",
       "      <td>39.716313</td>\n",
       "      <td>-105.129363</td>\n",
       "      <td>3</td>\n",
       "      <td>health_medical</td>\n",
       "    </tr>\n",
       "    <tr>\n",
       "      <th>545</th>\n",
       "      <td>{'location': {'lat': 39.7271572, 'lng': -104.9...</td>\n",
       "      <td>Denver Health</td>\n",
       "      <td>{'compound_code': 'P2G5+VH Denver, Colorado, U...</td>\n",
       "      <td>['hospital', 'health', 'point_of_interest', 'e...</td>\n",
       "      <td>777 Bannock Street, Denver</td>\n",
       "      <td>39.727157</td>\n",
       "      <td>-104.991058</td>\n",
       "      <td>3</td>\n",
       "      <td>health_medical</td>\n",
       "    </tr>\n",
       "    <tr>\n",
       "      <th>546</th>\n",
       "      <td>{'location': {'lat': 39.72780789999999, 'lng':...</td>\n",
       "      <td>Fresenius Medical Care at Denver Health And Ho...</td>\n",
       "      <td>{'compound_code': 'P2H5+4G Denver, Colorado, U...</td>\n",
       "      <td>['hospital', 'point_of_interest', 'establishme...</td>\n",
       "      <td>777 Bannock Street, Denver</td>\n",
       "      <td>39.727808</td>\n",
       "      <td>-104.991186</td>\n",
       "      <td>3</td>\n",
       "      <td>health_medical</td>\n",
       "    </tr>\n",
       "    <tr>\n",
       "      <th>548</th>\n",
       "      <td>{'location': {'lat': 39.730754, 'lng': -104.93...</td>\n",
       "      <td>Ninth Avenue Internal Medicine</td>\n",
       "      <td>{'compound_code': 'P3J8+87 Denver, Colorado, U...</td>\n",
       "      <td>['hospital', 'doctor', 'local_government_offic...</td>\n",
       "      <td>4500 East 9th Avenue #140, Denver</td>\n",
       "      <td>39.730754</td>\n",
       "      <td>-104.934277</td>\n",
       "      <td>3</td>\n",
       "      <td>health_medical</td>\n",
       "    </tr>\n",
       "    <tr>\n",
       "      <th>551</th>\n",
       "      <td>{'location': {'lat': 39.7320291, 'lng': -104.9...</td>\n",
       "      <td>Rose Medical Center</td>\n",
       "      <td>{'compound_code': 'P3J8+RH Denver, Colorado, U...</td>\n",
       "      <td>['hospital', 'point_of_interest', 'establishme...</td>\n",
       "      <td>4567 East 9th Avenue, Denver</td>\n",
       "      <td>39.732029</td>\n",
       "      <td>-104.933560</td>\n",
       "      <td>3</td>\n",
       "      <td>health_medical</td>\n",
       "    </tr>\n",
       "    <tr>\n",
       "      <th>557</th>\n",
       "      <td>{'location': {'lat': 39.7391706, 'lng': -104.9...</td>\n",
       "      <td>National Jewish Health</td>\n",
       "      <td>{'compound_code': 'P3Q4+MW Denver, Colorado, U...</td>\n",
       "      <td>['hospital', 'point_of_interest', 'establishme...</td>\n",
       "      <td>1400 Jackson Street, Denver</td>\n",
       "      <td>39.739171</td>\n",
       "      <td>-104.942628</td>\n",
       "      <td>3</td>\n",
       "      <td>health_medical</td>\n",
       "    </tr>\n",
       "    <tr>\n",
       "      <th>563</th>\n",
       "      <td>{'location': {'lat': 39.7423359, 'lng': -104.8...</td>\n",
       "      <td>University of Colorado (CU) Urogynecology</td>\n",
       "      <td>{'compound_code': 'P5R5+W9 Aurora, Colorado, U...</td>\n",
       "      <td>['hospital', 'doctor', 'health', 'point_of_int...</td>\n",
       "      <td>1635 Aurora Court, Aurora</td>\n",
       "      <td>39.742336</td>\n",
       "      <td>-104.841558</td>\n",
       "      <td>3</td>\n",
       "      <td>health_medical</td>\n",
       "    </tr>\n",
       "    <tr>\n",
       "      <th>564</th>\n",
       "      <td>{'location': {'lat': 39.7426294, 'lng': -104.8...</td>\n",
       "      <td>UCHealth University of Colorado Hospital (UCH)</td>\n",
       "      <td>{'compound_code': 'P5V5+35 Aurora, Colorado, U...</td>\n",
       "      <td>['hospital', 'point_of_interest', 'establishme...</td>\n",
       "      <td>12605 East 16th Avenue, Aurora</td>\n",
       "      <td>39.742629</td>\n",
       "      <td>-104.842029</td>\n",
       "      <td>3</td>\n",
       "      <td>health_medical</td>\n",
       "    </tr>\n",
       "    <tr>\n",
       "      <th>565</th>\n",
       "      <td>{'location': {'lat': 39.743954, 'lng': -104.83...</td>\n",
       "      <td>University of Colorado Anschutz Medical Campus...</td>\n",
       "      <td>{'compound_code': 'P5V6+HX Aurora, Colorado, U...</td>\n",
       "      <td>['hospital', 'university', 'health', 'point_of...</td>\n",
       "      <td>13001 East 17th Place Mail Stop F413 Room CG00...</td>\n",
       "      <td>39.743954</td>\n",
       "      <td>-104.837609</td>\n",
       "      <td>3</td>\n",
       "      <td>health_medical</td>\n",
       "    </tr>\n",
       "    <tr>\n",
       "      <th>567</th>\n",
       "      <td>{'location': {'lat': 39.7450137, 'lng': -104.9...</td>\n",
       "      <td>Fresenius Medical Care at Exempla St. Joseph M...</td>\n",
       "      <td>{'compound_code': 'P2WJ+2G Denver, Colorado, U...</td>\n",
       "      <td>['hospital', 'health', 'point_of_interest', 'e...</td>\n",
       "      <td>1835 Franklin Street, Denver</td>\n",
       "      <td>39.745014</td>\n",
       "      <td>-104.968723</td>\n",
       "      <td>3</td>\n",
       "      <td>health_medical</td>\n",
       "    </tr>\n",
       "    <tr>\n",
       "      <th>570</th>\n",
       "      <td>{'location': {'lat': 39.74618819999999, 'lng':...</td>\n",
       "      <td>Sarah B Hubbell M.D. | Kaiser Permanente</td>\n",
       "      <td>{'compound_code': 'P2WH+F8 Denver, Colorado, U...</td>\n",
       "      <td>['hospital', 'point_of_interest', 'establishme...</td>\n",
       "      <td>1375 East 19th Avenue, Denver</td>\n",
       "      <td>39.746188</td>\n",
       "      <td>-104.971727</td>\n",
       "      <td>3</td>\n",
       "      <td>health_medical</td>\n",
       "    </tr>\n",
       "    <tr>\n",
       "      <th>576</th>\n",
       "      <td>{'location': {'lat': 39.7466783, 'lng': -104.9...</td>\n",
       "      <td>Denver Clinic for Extremities at Risk at Presb...</td>\n",
       "      <td>{'compound_code': 'P2WJ+MV Denver, Colorado, U...</td>\n",
       "      <td>['hospital', 'point_of_interest', 'establishme...</td>\n",
       "      <td>1601 East 19th Avenue, Denver</td>\n",
       "      <td>39.746678</td>\n",
       "      <td>-104.967797</td>\n",
       "      <td>3</td>\n",
       "      <td>health_medical</td>\n",
       "    </tr>\n",
       "    <tr>\n",
       "      <th>577</th>\n",
       "      <td>{'location': {'lat': 39.7472051, 'lng': -104.9...</td>\n",
       "      <td>Presbyterian St. Luke's Medical Center</td>\n",
       "      <td>{'compound_code': 'P2WM+V9 Denver, Colorado, U...</td>\n",
       "      <td>['hospital', 'point_of_interest', 'establishme...</td>\n",
       "      <td>1719 East 19th Avenue, Denver</td>\n",
       "      <td>39.747205</td>\n",
       "      <td>-104.966547</td>\n",
       "      <td>3</td>\n",
       "      <td>health_medical</td>\n",
       "    </tr>\n",
       "    <tr>\n",
       "      <th>587</th>\n",
       "      <td>{'location': {'lat': 39.7681121, 'lng': -105.0...</td>\n",
       "      <td>Lutheran Medical Center</td>\n",
       "      <td>{'compound_code': 'QW96+62 Wheat Ridge, Colora...</td>\n",
       "      <td>['hospital', 'point_of_interest', 'establishme...</td>\n",
       "      <td>8300 West 38th Avenue, Wheat Ridge</td>\n",
       "      <td>39.768112</td>\n",
       "      <td>-105.089899</td>\n",
       "      <td>3</td>\n",
       "      <td>health_medical</td>\n",
       "    </tr>\n",
       "    <tr>\n",
       "      <th>698</th>\n",
       "      <td>{'location': {'lat': 39.7158522, 'lng': -105.1...</td>\n",
       "      <td>Saint Anthony Hospital Central Heliport</td>\n",
       "      <td>{'compound_code': 'PV8C+8G Lakewood, Colorado,...</td>\n",
       "      <td>['hospital', 'airport', 'point_of_interest', '...</td>\n",
       "      <td>11600 West 2nd Place, Lakewood</td>\n",
       "      <td>39.715852</td>\n",
       "      <td>-105.128649</td>\n",
       "      <td>6</td>\n",
       "      <td>transportation</td>\n",
       "    </tr>\n",
       "  </tbody>\n",
       "</table>\n",
       "</div>"
      ],
      "text/plain": [
       "                                              geometry  \\\n",
       "126  {'location': {'lat': 39.730754, 'lng': -104.93...   \n",
       "170  {'location': {'lat': 39.743954, 'lng': -104.83...   \n",
       "503  {'location': {'lat': 39.65388480000001, 'lng':...   \n",
       "504  {'location': {'lat': 39.65427, 'lng': -104.978...   \n",
       "536  {'location': {'lat': 39.7158522, 'lng': -105.1...   \n",
       "537  {'location': {'lat': 39.7163135, 'lng': -105.1...   \n",
       "545  {'location': {'lat': 39.7271572, 'lng': -104.9...   \n",
       "546  {'location': {'lat': 39.72780789999999, 'lng':...   \n",
       "548  {'location': {'lat': 39.730754, 'lng': -104.93...   \n",
       "551  {'location': {'lat': 39.7320291, 'lng': -104.9...   \n",
       "557  {'location': {'lat': 39.7391706, 'lng': -104.9...   \n",
       "563  {'location': {'lat': 39.7423359, 'lng': -104.8...   \n",
       "564  {'location': {'lat': 39.7426294, 'lng': -104.8...   \n",
       "565  {'location': {'lat': 39.743954, 'lng': -104.83...   \n",
       "567  {'location': {'lat': 39.7450137, 'lng': -104.9...   \n",
       "570  {'location': {'lat': 39.74618819999999, 'lng':...   \n",
       "576  {'location': {'lat': 39.7466783, 'lng': -104.9...   \n",
       "577  {'location': {'lat': 39.7472051, 'lng': -104.9...   \n",
       "587  {'location': {'lat': 39.7681121, 'lng': -105.0...   \n",
       "698  {'location': {'lat': 39.7158522, 'lng': -105.1...   \n",
       "\n",
       "                                                  name  \\\n",
       "126                     Ninth Avenue Internal Medicine   \n",
       "170  University of Colorado Anschutz Medical Campus...   \n",
       "503                             Swedish Medical Center   \n",
       "504                                     Craig Hospital   \n",
       "536            Saint Anthony Hospital Central Heliport   \n",
       "537                               St. Anthony Hospital   \n",
       "545                                      Denver Health   \n",
       "546  Fresenius Medical Care at Denver Health And Ho...   \n",
       "548                     Ninth Avenue Internal Medicine   \n",
       "551                                Rose Medical Center   \n",
       "557                             National Jewish Health   \n",
       "563          University of Colorado (CU) Urogynecology   \n",
       "564     UCHealth University of Colorado Hospital (UCH)   \n",
       "565  University of Colorado Anschutz Medical Campus...   \n",
       "567  Fresenius Medical Care at Exempla St. Joseph M...   \n",
       "570           Sarah B Hubbell M.D. | Kaiser Permanente   \n",
       "576  Denver Clinic for Extremities at Risk at Presb...   \n",
       "577             Presbyterian St. Luke's Medical Center   \n",
       "587                            Lutheran Medical Center   \n",
       "698            Saint Anthony Hospital Central Heliport   \n",
       "\n",
       "                                             plus_code  \\\n",
       "126  {'compound_code': 'P3J8+87 Denver, Colorado, U...   \n",
       "170  {'compound_code': 'P5V6+HX Aurora, Colorado, U...   \n",
       "503  {'compound_code': 'M239+HQ Englewood, Colorado...   \n",
       "504  {'compound_code': 'M23C+PC Englewood, Colorado...   \n",
       "536  {'compound_code': 'PV8C+8G Lakewood, Colorado,...   \n",
       "537  {'compound_code': 'PV8C+G7 Lakewood, Colorado,...   \n",
       "545  {'compound_code': 'P2G5+VH Denver, Colorado, U...   \n",
       "546  {'compound_code': 'P2H5+4G Denver, Colorado, U...   \n",
       "548  {'compound_code': 'P3J8+87 Denver, Colorado, U...   \n",
       "551  {'compound_code': 'P3J8+RH Denver, Colorado, U...   \n",
       "557  {'compound_code': 'P3Q4+MW Denver, Colorado, U...   \n",
       "563  {'compound_code': 'P5R5+W9 Aurora, Colorado, U...   \n",
       "564  {'compound_code': 'P5V5+35 Aurora, Colorado, U...   \n",
       "565  {'compound_code': 'P5V6+HX Aurora, Colorado, U...   \n",
       "567  {'compound_code': 'P2WJ+2G Denver, Colorado, U...   \n",
       "570  {'compound_code': 'P2WH+F8 Denver, Colorado, U...   \n",
       "576  {'compound_code': 'P2WJ+MV Denver, Colorado, U...   \n",
       "577  {'compound_code': 'P2WM+V9 Denver, Colorado, U...   \n",
       "587  {'compound_code': 'QW96+62 Wheat Ridge, Colora...   \n",
       "698  {'compound_code': 'PV8C+8G Lakewood, Colorado,...   \n",
       "\n",
       "                                                 types  \\\n",
       "126  ['hospital', 'doctor', 'local_government_offic...   \n",
       "170  ['hospital', 'university', 'health', 'point_of...   \n",
       "503  ['hospital', 'point_of_interest', 'establishme...   \n",
       "504  ['hospital', 'point_of_interest', 'establishme...   \n",
       "536  ['hospital', 'airport', 'point_of_interest', '...   \n",
       "537  ['hospital', 'health', 'point_of_interest', 'e...   \n",
       "545  ['hospital', 'health', 'point_of_interest', 'e...   \n",
       "546  ['hospital', 'point_of_interest', 'establishme...   \n",
       "548  ['hospital', 'doctor', 'local_government_offic...   \n",
       "551  ['hospital', 'point_of_interest', 'establishme...   \n",
       "557  ['hospital', 'point_of_interest', 'establishme...   \n",
       "563  ['hospital', 'doctor', 'health', 'point_of_int...   \n",
       "564  ['hospital', 'point_of_interest', 'establishme...   \n",
       "565  ['hospital', 'university', 'health', 'point_of...   \n",
       "567  ['hospital', 'health', 'point_of_interest', 'e...   \n",
       "570  ['hospital', 'point_of_interest', 'establishme...   \n",
       "576  ['hospital', 'point_of_interest', 'establishme...   \n",
       "577  ['hospital', 'point_of_interest', 'establishme...   \n",
       "587  ['hospital', 'point_of_interest', 'establishme...   \n",
       "698  ['hospital', 'airport', 'point_of_interest', '...   \n",
       "\n",
       "                                              vicinity   latitude   longitude  \\\n",
       "126                  4500 East 9th Avenue #140, Denver  39.730754 -104.934277   \n",
       "170  13001 East 17th Place Mail Stop F413 Room CG00...  39.743954 -104.837609   \n",
       "503                 501 East Hampden Avenue, Englewood  39.653885 -104.980587   \n",
       "504              3425 South Clarkson Street, Englewood  39.654270 -104.978889   \n",
       "536                     11600 West 2nd Place, Lakewood  39.715852 -105.128649   \n",
       "537                     11600 West 2nd Place, Lakewood  39.716313 -105.129363   \n",
       "545                         777 Bannock Street, Denver  39.727157 -104.991058   \n",
       "546                         777 Bannock Street, Denver  39.727808 -104.991186   \n",
       "548                  4500 East 9th Avenue #140, Denver  39.730754 -104.934277   \n",
       "551                       4567 East 9th Avenue, Denver  39.732029 -104.933560   \n",
       "557                        1400 Jackson Street, Denver  39.739171 -104.942628   \n",
       "563                          1635 Aurora Court, Aurora  39.742336 -104.841558   \n",
       "564                     12605 East 16th Avenue, Aurora  39.742629 -104.842029   \n",
       "565  13001 East 17th Place Mail Stop F413 Room CG00...  39.743954 -104.837609   \n",
       "567                       1835 Franklin Street, Denver  39.745014 -104.968723   \n",
       "570                      1375 East 19th Avenue, Denver  39.746188 -104.971727   \n",
       "576                      1601 East 19th Avenue, Denver  39.746678 -104.967797   \n",
       "577                      1719 East 19th Avenue, Denver  39.747205 -104.966547   \n",
       "587                 8300 West 38th Avenue, Wheat Ridge  39.768112 -105.089899   \n",
       "698                     11600 West 2nd Place, Lakewood  39.715852 -105.128649   \n",
       "\n",
       "     lifeline_number lifeline_category  \n",
       "126                1   safety_security  \n",
       "170                1   safety_security  \n",
       "503                3    health_medical  \n",
       "504                3    health_medical  \n",
       "536                3    health_medical  \n",
       "537                3    health_medical  \n",
       "545                3    health_medical  \n",
       "546                3    health_medical  \n",
       "548                3    health_medical  \n",
       "551                3    health_medical  \n",
       "557                3    health_medical  \n",
       "563                3    health_medical  \n",
       "564                3    health_medical  \n",
       "565                3    health_medical  \n",
       "567                3    health_medical  \n",
       "570                3    health_medical  \n",
       "576                3    health_medical  \n",
       "577                3    health_medical  \n",
       "587                3    health_medical  \n",
       "698                6    transportation  "
      ]
     },
     "execution_count": 9,
     "metadata": {},
     "output_type": "execute_result"
    }
   ],
   "source": [
    "# sort datarame on hospitals\n",
    "data.loc[hospitals_index]"
   ]
  },
  {
   "cell_type": "code",
   "execution_count": 10,
   "metadata": {},
   "outputs": [],
   "source": [
    "# assign x (latitude) and y (longitude) for hospitals\n",
    "plots = data.loc[hospitals_index][['latitude','longitude']]\n"
   ]
  },
  {
   "cell_type": "code",
   "execution_count": 11,
   "metadata": {
    "scrolled": true
   },
   "outputs": [
    {
     "data": {
      "text/html": [
       "<div>\n",
       "<style scoped>\n",
       "    .dataframe tbody tr th:only-of-type {\n",
       "        vertical-align: middle;\n",
       "    }\n",
       "\n",
       "    .dataframe tbody tr th {\n",
       "        vertical-align: top;\n",
       "    }\n",
       "\n",
       "    .dataframe thead th {\n",
       "        text-align: right;\n",
       "    }\n",
       "</style>\n",
       "<table border=\"1\" class=\"dataframe\">\n",
       "  <thead>\n",
       "    <tr style=\"text-align: right;\">\n",
       "      <th></th>\n",
       "      <th>latitude</th>\n",
       "      <th>longitude</th>\n",
       "    </tr>\n",
       "  </thead>\n",
       "  <tbody>\n",
       "    <tr>\n",
       "      <th>126</th>\n",
       "      <td>39.730754</td>\n",
       "      <td>-104.934277</td>\n",
       "    </tr>\n",
       "    <tr>\n",
       "      <th>170</th>\n",
       "      <td>39.743954</td>\n",
       "      <td>-104.837609</td>\n",
       "    </tr>\n",
       "    <tr>\n",
       "      <th>503</th>\n",
       "      <td>39.653885</td>\n",
       "      <td>-104.980587</td>\n",
       "    </tr>\n",
       "    <tr>\n",
       "      <th>504</th>\n",
       "      <td>39.654270</td>\n",
       "      <td>-104.978889</td>\n",
       "    </tr>\n",
       "    <tr>\n",
       "      <th>536</th>\n",
       "      <td>39.715852</td>\n",
       "      <td>-105.128649</td>\n",
       "    </tr>\n",
       "    <tr>\n",
       "      <th>537</th>\n",
       "      <td>39.716313</td>\n",
       "      <td>-105.129363</td>\n",
       "    </tr>\n",
       "    <tr>\n",
       "      <th>545</th>\n",
       "      <td>39.727157</td>\n",
       "      <td>-104.991058</td>\n",
       "    </tr>\n",
       "    <tr>\n",
       "      <th>546</th>\n",
       "      <td>39.727808</td>\n",
       "      <td>-104.991186</td>\n",
       "    </tr>\n",
       "    <tr>\n",
       "      <th>548</th>\n",
       "      <td>39.730754</td>\n",
       "      <td>-104.934277</td>\n",
       "    </tr>\n",
       "    <tr>\n",
       "      <th>551</th>\n",
       "      <td>39.732029</td>\n",
       "      <td>-104.933560</td>\n",
       "    </tr>\n",
       "    <tr>\n",
       "      <th>557</th>\n",
       "      <td>39.739171</td>\n",
       "      <td>-104.942628</td>\n",
       "    </tr>\n",
       "    <tr>\n",
       "      <th>563</th>\n",
       "      <td>39.742336</td>\n",
       "      <td>-104.841558</td>\n",
       "    </tr>\n",
       "    <tr>\n",
       "      <th>564</th>\n",
       "      <td>39.742629</td>\n",
       "      <td>-104.842029</td>\n",
       "    </tr>\n",
       "    <tr>\n",
       "      <th>565</th>\n",
       "      <td>39.743954</td>\n",
       "      <td>-104.837609</td>\n",
       "    </tr>\n",
       "    <tr>\n",
       "      <th>567</th>\n",
       "      <td>39.745014</td>\n",
       "      <td>-104.968723</td>\n",
       "    </tr>\n",
       "    <tr>\n",
       "      <th>570</th>\n",
       "      <td>39.746188</td>\n",
       "      <td>-104.971727</td>\n",
       "    </tr>\n",
       "    <tr>\n",
       "      <th>576</th>\n",
       "      <td>39.746678</td>\n",
       "      <td>-104.967797</td>\n",
       "    </tr>\n",
       "    <tr>\n",
       "      <th>577</th>\n",
       "      <td>39.747205</td>\n",
       "      <td>-104.966547</td>\n",
       "    </tr>\n",
       "    <tr>\n",
       "      <th>587</th>\n",
       "      <td>39.768112</td>\n",
       "      <td>-105.089899</td>\n",
       "    </tr>\n",
       "    <tr>\n",
       "      <th>698</th>\n",
       "      <td>39.715852</td>\n",
       "      <td>-105.128649</td>\n",
       "    </tr>\n",
       "  </tbody>\n",
       "</table>\n",
       "</div>"
      ],
      "text/plain": [
       "      latitude   longitude\n",
       "126  39.730754 -104.934277\n",
       "170  39.743954 -104.837609\n",
       "503  39.653885 -104.980587\n",
       "504  39.654270 -104.978889\n",
       "536  39.715852 -105.128649\n",
       "537  39.716313 -105.129363\n",
       "545  39.727157 -104.991058\n",
       "546  39.727808 -104.991186\n",
       "548  39.730754 -104.934277\n",
       "551  39.732029 -104.933560\n",
       "557  39.739171 -104.942628\n",
       "563  39.742336 -104.841558\n",
       "564  39.742629 -104.842029\n",
       "565  39.743954 -104.837609\n",
       "567  39.745014 -104.968723\n",
       "570  39.746188 -104.971727\n",
       "576  39.746678 -104.967797\n",
       "577  39.747205 -104.966547\n",
       "587  39.768112 -105.089899\n",
       "698  39.715852 -105.128649"
      ]
     },
     "execution_count": 11,
     "metadata": {},
     "output_type": "execute_result"
    }
   ],
   "source": [
    "plots"
   ]
  },
  {
   "cell_type": "code",
   "execution_count": 12,
   "metadata": {
    "scrolled": false
   },
   "outputs": [
    {
     "data": {
      "text/plain": [
       "<matplotlib.collections.PathCollection at 0x11ad2d790>"
      ]
     },
     "execution_count": 12,
     "metadata": {},
     "output_type": "execute_result"
    },
    {
     "data": {
      "image/png": "[encoded data removed]",
      "text/plain": [
       "<Figure size 432x288 with 1 Axes>"
      ]
     },
     "metadata": {
      "needs_background": "light"
     },
     "output_type": "display_data"
    }
   ],
   "source": [
    "# plot hospitals\n",
    "plt.scatter(plots['latitude'],plots['longitude'])"
   ]
  },
  {
   "cell_type": "markdown",
   "metadata": {},
   "source": [
    "## Use DBSCAN to find lifeline zones"
   ]
  },
  {
   "cell_type": "code",
   "execution_count": 13,
   "metadata": {},
   "outputs": [],
   "source": [
    "from sklearn.preprocessing import StandardScaler\n",
    "from sklearn.metrics import silhouette_score\n",
    "from sklearn.cluster import DBSCAN\n",
    "import seaborn as sns"
   ]
  },
  {
   "cell_type": "code",
   "execution_count": 14,
   "metadata": {},
   "outputs": [
    {
     "data": {
      "text/plain": [
       "DBSCAN(algorithm='auto', eps=0.01, leaf_size=30, metric='euclidean',\n",
       "       metric_params=None, min_samples=1, n_jobs=None, p=None)"
      ]
     },
     "execution_count": 14,
     "metadata": {},
     "output_type": "execute_result"
    }
   ],
   "source": [
    "#each degree of latitude is approximately 69 miles, every tenth of a degree is 6.9 miles\n",
    "#epsilon set to ~ 6.9 miles\n",
    "\n",
    "dbscan = DBSCAN(eps = 0.01, min_samples = 1)  #defaults\n",
    "dbscan.fit(plots)"
   ]
  },
  {
   "cell_type": "code",
   "execution_count": 15,
   "metadata": {},
   "outputs": [
    {
     "data": {
      "text/plain": [
       "array([0, 1, 2, 2, 3, 3, 4, 4, 0, 0, 5, 1, 1, 1, 6, 6, 6, 6, 7, 3])"
      ]
     },
     "execution_count": 15,
     "metadata": {},
     "output_type": "execute_result"
    }
   ],
   "source": [
    "labels = dbscan.labels_\n",
    "labels"
   ]
  },
  {
   "cell_type": "code",
   "execution_count": 16,
   "metadata": {},
   "outputs": [],
   "source": [
    "plots['cluster'] = dbscan.labels_"
   ]
  },
  {
   "cell_type": "code",
   "execution_count": 17,
   "metadata": {},
   "outputs": [
    {
     "data": {
      "text/plain": [
       "array([[  39.730754 , -104.934277 ],\n",
       "       [  39.743954 , -104.8376089],\n",
       "       [  39.6538848, -104.9805872],\n",
       "       [  39.65427  , -104.978889 ],\n",
       "       [  39.7158522, -105.1286486],\n",
       "       [  39.7163135, -105.1293633],\n",
       "       [  39.7271572, -104.9910582],\n",
       "       [  39.7278079, -104.9911862],\n",
       "       [  39.730754 , -104.934277 ],\n",
       "       [  39.7320291, -104.93356  ],\n",
       "       [  39.7391706, -104.9426279],\n",
       "       [  39.7423359, -104.8415582],\n",
       "       [  39.7426294, -104.8420288],\n",
       "       [  39.743954 , -104.8376089],\n",
       "       [  39.7450137, -104.9687233],\n",
       "       [  39.7461882, -104.9717268],\n",
       "       [  39.7466783, -104.9677971],\n",
       "       [  39.7472051, -104.9665466],\n",
       "       [  39.7681121, -105.0898988],\n",
       "       [  39.7158522, -105.1286486]])"
      ]
     },
     "execution_count": 17,
     "metadata": {},
     "output_type": "execute_result"
    }
   ],
   "source": [
    "dbscan.components_"
   ]
  },
  {
   "cell_type": "code",
   "execution_count": 18,
   "metadata": {},
   "outputs": [
    {
     "data": {
      "text/plain": [
       "<matplotlib.collections.PathCollection at 0x1a1e3f8d50>"
      ]
     },
     "execution_count": 18,
     "metadata": {},
     "output_type": "execute_result"
    },
    {
     "data": {
      "image/png": "[encoded data removed]",
      "text/plain": [
       "<Figure size 576x576 with 1 Axes>"
      ]
     },
     "metadata": {
      "needs_background": "light"
     },
     "output_type": "display_data"
    }
   ],
   "source": [
    "plt.figure(figsize = (8,8))\n",
    "plt.scatter(plots['latitude'],plots['longitude'],c=plots['cluster'],cmap = 'tab20', s=100)\n",
    "#plt.scatter(plots['lat'],plots['lng'], s=700, facecolors='none', edgecolors='r')"
   ]
  },
  {
   "cell_type": "markdown",
   "metadata": {},
   "source": [
    "### Define Resource Zones"
   ]
  },
  {
   "cell_type": "code",
   "execution_count": 19,
   "metadata": {},
   "outputs": [
    {
     "name": "stdout",
     "output_type": "stream",
     "text": [
      "Max latitude: 39.881899\n",
      "Min latitude: 39.608068300000006\n",
      "Max longitude: -104.8091197\n",
      "Min longitude: -105.163888\n"
     ]
    }
   ],
   "source": [
    "print(f\"Max latitude: {data['latitude'].max()}\")\n",
    "print(f\"Min latitude: {data['latitude'].min()}\")\n",
    "print(f\"Max longitude: {data['longitude'].max()}\")\n",
    "print(f\"Min longitude: {data['longitude'].min()}\")"
   ]
  },
  {
   "cell_type": "markdown",
   "metadata": {},
   "source": [
    "Length of 1 degree of Longitude = cosine (latitude in decimal degrees) * length of degree (miles) at equator.\n",
    "\n",
    "Convert your latitude into decimal degrees ~ 37.26383\n",
    "\n",
    "Convert your decimal degrees into radians ~ 0.65038\n",
    "\n",
    "Take the cosine of the value in radians ~ 0.79585\n",
    "\n",
    "1 degree of Longitude = ~0.79585 * 69.172 = ~ 55.051 miles\n",
    "\n",
    "Source: https://gis.stackexchange.com/questions/142326/calculating-longitude-length-in-miles"
   ]
  },
  {
   "cell_type": "code",
   "execution_count": 20,
   "metadata": {},
   "outputs": [
    {
     "data": {
      "text/plain": [
       "53.08036280602015"
      ]
     },
     "execution_count": 20,
     "metadata": {},
     "output_type": "execute_result"
    }
   ],
   "source": [
    "long = -104.8091197\n",
    "lat = 39.881899\n",
    "rad = 1 * np.pi/180\n",
    "length = np.cos(rad * lat)*69.172\n",
    "length"
   ]
  },
  {
   "cell_type": "markdown",
   "metadata": {},
   "source": [
    "### For the Denver metro area for every 10th degree of latitude it is aproximately 6.9 miles and for every 10th degree of longitude it is aproximately 5.3 miles."
   ]
  },
  {
   "cell_type": "code",
   "execution_count": 21,
   "metadata": {
    "scrolled": true
   },
   "outputs": [
    {
     "data": {
      "text/plain": [
       "latitude      39.730754\n",
       "longitude   -104.934277\n",
       "Name: 126, dtype: float64"
      ]
     },
     "execution_count": 21,
     "metadata": {},
     "output_type": "execute_result"
    }
   ],
   "source": [
    "plots[['latitude','longitude']].loc[126]"
   ]
  },
  {
   "cell_type": "code",
   "execution_count": 22,
   "metadata": {},
   "outputs": [
    {
     "data": {
      "text/plain": [
       "'Ninth Avenue Internal Medicine'"
      ]
     },
     "execution_count": 22,
     "metadata": {},
     "output_type": "execute_result"
    }
   ],
   "source": [
    "data.loc[126]['name']"
   ]
  },
  {
   "cell_type": "code",
   "execution_count": 23,
   "metadata": {},
   "outputs": [
    {
     "data": {
      "text/plain": [
       "array([  39.730754, -104.934277])"
      ]
     },
     "execution_count": 23,
     "metadata": {},
     "output_type": "execute_result"
    }
   ],
   "source": [
    "dbscan.components_[0][0:2]"
   ]
  },
  {
   "cell_type": "code",
   "execution_count": 24,
   "metadata": {},
   "outputs": [],
   "source": [
    "import shapely\n",
    "from shapely.geometry.point import Point\n",
    "p = Point(dbscan.components_[0][0:2])\n",
    "circle = p.buffer(0.01) # 6.9 miles for lat and 5.3 for lng\n",
    "zone_0 = list(circle.exterior.coords)"
   ]
  },
  {
   "cell_type": "code",
   "execution_count": 78,
   "metadata": {},
   "outputs": [
    {
     "data": {
      "text/plain": [
       "shapely.geometry.polygon.Polygon"
      ]
     },
     "execution_count": 78,
     "metadata": {},
     "output_type": "execute_result"
    }
   ],
   "source": [
    "type(circle)"
   ]
  },
  {
   "cell_type": "code",
   "execution_count": 79,
   "metadata": {},
   "outputs": [
    {
     "data": {
      "text/plain": [
       "(39.718112100000006, -105.1398988, 39.8181121, -105.0398988)"
      ]
     },
     "execution_count": 79,
     "metadata": {},
     "output_type": "execute_result"
    }
   ],
   "source": [
    "circle.bounds"
   ]
  },
  {
   "cell_type": "code",
   "execution_count": 25,
   "metadata": {},
   "outputs": [],
   "source": [
    "zone_0_lat = circle.bounds[0:3:2]\n",
    "zone_0_lng = circle.bounds[1:4:2]"
   ]
  },
  {
   "cell_type": "code",
   "execution_count": 26,
   "metadata": {},
   "outputs": [
    {
     "data": {
      "text/plain": [
       "(39.720754, 39.740753999999995)"
      ]
     },
     "execution_count": 26,
     "metadata": {},
     "output_type": "execute_result"
    }
   ],
   "source": [
    "zone_0_lat"
   ]
  },
  {
   "cell_type": "code",
   "execution_count": 27,
   "metadata": {},
   "outputs": [
    {
     "data": {
      "text/plain": [
       "16"
      ]
     },
     "execution_count": 27,
     "metadata": {},
     "output_type": "execute_result"
    }
   ],
   "source": [
    "count = 0\n",
    "for i in range(len(data)):\n",
    "    if data['latitude'][i] >= zone_0_lat[0] and data['latitude'][i] <= zone_0_lat[1]:\n",
    "        if data['longitude'][i] >= zone_0_lng[0] and data['longitude'][i] <= zone_0_lng[1]:\n",
    "            count += 1\n",
    "count"
   ]
  },
  {
   "cell_type": "code",
   "execution_count": 28,
   "metadata": {},
   "outputs": [
    {
     "data": {
      "text/plain": [
       "813"
      ]
     },
     "execution_count": 28,
     "metadata": {},
     "output_type": "execute_result"
    }
   ],
   "source": [
    "len(data)"
   ]
  },
  {
   "cell_type": "code",
   "execution_count": 29,
   "metadata": {
    "scrolled": true
   },
   "outputs": [
    {
     "data": {
      "text/html": [
       "<div>\n",
       "<style scoped>\n",
       "    .dataframe tbody tr th:only-of-type {\n",
       "        vertical-align: middle;\n",
       "    }\n",
       "\n",
       "    .dataframe tbody tr th {\n",
       "        vertical-align: top;\n",
       "    }\n",
       "\n",
       "    .dataframe thead th {\n",
       "        text-align: right;\n",
       "    }\n",
       "</style>\n",
       "<table border=\"1\" class=\"dataframe\">\n",
       "  <thead>\n",
       "    <tr style=\"text-align: right;\">\n",
       "      <th></th>\n",
       "      <th>latitude</th>\n",
       "      <th>longitude</th>\n",
       "    </tr>\n",
       "    <tr>\n",
       "      <th>cluster</th>\n",
       "      <th></th>\n",
       "      <th></th>\n",
       "    </tr>\n",
       "  </thead>\n",
       "  <tbody>\n",
       "    <tr>\n",
       "      <th>0</th>\n",
       "      <td>39.731179</td>\n",
       "      <td>-104.934038</td>\n",
       "    </tr>\n",
       "    <tr>\n",
       "      <th>1</th>\n",
       "      <td>39.743218</td>\n",
       "      <td>-104.839701</td>\n",
       "    </tr>\n",
       "    <tr>\n",
       "      <th>2</th>\n",
       "      <td>39.654077</td>\n",
       "      <td>-104.979738</td>\n",
       "    </tr>\n",
       "    <tr>\n",
       "      <th>3</th>\n",
       "      <td>39.716006</td>\n",
       "      <td>-105.128887</td>\n",
       "    </tr>\n",
       "    <tr>\n",
       "      <th>4</th>\n",
       "      <td>39.727483</td>\n",
       "      <td>-104.991122</td>\n",
       "    </tr>\n",
       "    <tr>\n",
       "      <th>5</th>\n",
       "      <td>39.739171</td>\n",
       "      <td>-104.942628</td>\n",
       "    </tr>\n",
       "    <tr>\n",
       "      <th>6</th>\n",
       "      <td>39.746271</td>\n",
       "      <td>-104.968698</td>\n",
       "    </tr>\n",
       "    <tr>\n",
       "      <th>7</th>\n",
       "      <td>39.768112</td>\n",
       "      <td>-105.089899</td>\n",
       "    </tr>\n",
       "  </tbody>\n",
       "</table>\n",
       "</div>"
      ],
      "text/plain": [
       "          latitude   longitude\n",
       "cluster                       \n",
       "0        39.731179 -104.934038\n",
       "1        39.743218 -104.839701\n",
       "2        39.654077 -104.979738\n",
       "3        39.716006 -105.128887\n",
       "4        39.727483 -104.991122\n",
       "5        39.739171 -104.942628\n",
       "6        39.746271 -104.968698\n",
       "7        39.768112 -105.089899"
      ]
     },
     "execution_count": 29,
     "metadata": {},
     "output_type": "execute_result"
    }
   ],
   "source": [
    "# simplify the plots by finding the zone averages\n",
    "zone_coordinates = plots.groupby(['cluster']).mean()\n",
    "zone_coordinates"
   ]
  },
  {
   "cell_type": "code",
   "execution_count": 30,
   "metadata": {},
   "outputs": [
    {
     "data": {
      "text/plain": [
       "[39.73117903333334, -104.93403799999999]"
      ]
     },
     "execution_count": 30,
     "metadata": {},
     "output_type": "execute_result"
    }
   ],
   "source": [
    "list(zone_coordinates.loc[0][['latitude','longitude']])"
   ]
  },
  {
   "cell_type": "code",
   "execution_count": 31,
   "metadata": {},
   "outputs": [],
   "source": [
    "circle_centers = pd.DataFrame(columns = ['zone','lat_min', 'lat_max','lng_min','lng_max'])\n",
    "new_data = []\n",
    "for cluster in range(len(zone_coordinates)):\n",
    "    p = Point(list(zone_coordinates.loc[cluster][['latitude','longitude']]))\n",
    "    circle = p.buffer(0.05) # 6.9 miles for lat and 5.3 for lng\n",
    "    zone_lat = circle.bounds[0:3:2]\n",
    "    zone_lng = circle.bounds[1:4:2]\n",
    "    circle_centers = circle_centers.append({'zone':cluster,'lat_min': zone_lat[0], 'lat_max': zone_lat[1],\n",
    "                                     'lng_min': zone_lng[0],'lng_max':zone_lng[1]},ignore_index=True)"
   ]
  },
  {
   "cell_type": "code",
   "execution_count": 32,
   "metadata": {
    "scrolled": true
   },
   "outputs": [
    {
     "data": {
      "text/html": [
       "<div>\n",
       "<style scoped>\n",
       "    .dataframe tbody tr th:only-of-type {\n",
       "        vertical-align: middle;\n",
       "    }\n",
       "\n",
       "    .dataframe tbody tr th {\n",
       "        vertical-align: top;\n",
       "    }\n",
       "\n",
       "    .dataframe thead th {\n",
       "        text-align: right;\n",
       "    }\n",
       "</style>\n",
       "<table border=\"1\" class=\"dataframe\">\n",
       "  <thead>\n",
       "    <tr style=\"text-align: right;\">\n",
       "      <th></th>\n",
       "      <th>zone</th>\n",
       "      <th>lat_min</th>\n",
       "      <th>lat_max</th>\n",
       "      <th>lng_min</th>\n",
       "      <th>lng_max</th>\n",
       "    </tr>\n",
       "  </thead>\n",
       "  <tbody>\n",
       "    <tr>\n",
       "      <th>0</th>\n",
       "      <td>0.0</td>\n",
       "      <td>39.681179</td>\n",
       "      <td>39.781179</td>\n",
       "      <td>-104.984038</td>\n",
       "      <td>-104.884038</td>\n",
       "    </tr>\n",
       "    <tr>\n",
       "      <th>1</th>\n",
       "      <td>1.0</td>\n",
       "      <td>39.693218</td>\n",
       "      <td>39.793218</td>\n",
       "      <td>-104.889701</td>\n",
       "      <td>-104.789701</td>\n",
       "    </tr>\n",
       "    <tr>\n",
       "      <th>2</th>\n",
       "      <td>2.0</td>\n",
       "      <td>39.604077</td>\n",
       "      <td>39.704077</td>\n",
       "      <td>-105.029738</td>\n",
       "      <td>-104.929738</td>\n",
       "    </tr>\n",
       "    <tr>\n",
       "      <th>3</th>\n",
       "      <td>3.0</td>\n",
       "      <td>39.666006</td>\n",
       "      <td>39.766006</td>\n",
       "      <td>-105.178887</td>\n",
       "      <td>-105.078887</td>\n",
       "    </tr>\n",
       "    <tr>\n",
       "      <th>4</th>\n",
       "      <td>4.0</td>\n",
       "      <td>39.677483</td>\n",
       "      <td>39.777483</td>\n",
       "      <td>-105.041122</td>\n",
       "      <td>-104.941122</td>\n",
       "    </tr>\n",
       "    <tr>\n",
       "      <th>5</th>\n",
       "      <td>5.0</td>\n",
       "      <td>39.689171</td>\n",
       "      <td>39.789171</td>\n",
       "      <td>-104.992628</td>\n",
       "      <td>-104.892628</td>\n",
       "    </tr>\n",
       "    <tr>\n",
       "      <th>6</th>\n",
       "      <td>6.0</td>\n",
       "      <td>39.696271</td>\n",
       "      <td>39.796271</td>\n",
       "      <td>-105.018698</td>\n",
       "      <td>-104.918698</td>\n",
       "    </tr>\n",
       "    <tr>\n",
       "      <th>7</th>\n",
       "      <td>7.0</td>\n",
       "      <td>39.718112</td>\n",
       "      <td>39.818112</td>\n",
       "      <td>-105.139899</td>\n",
       "      <td>-105.039899</td>\n",
       "    </tr>\n",
       "  </tbody>\n",
       "</table>\n",
       "</div>"
      ],
      "text/plain": [
       "   zone    lat_min    lat_max     lng_min     lng_max\n",
       "0   0.0  39.681179  39.781179 -104.984038 -104.884038\n",
       "1   1.0  39.693218  39.793218 -104.889701 -104.789701\n",
       "2   2.0  39.604077  39.704077 -105.029738 -104.929738\n",
       "3   3.0  39.666006  39.766006 -105.178887 -105.078887\n",
       "4   4.0  39.677483  39.777483 -105.041122 -104.941122\n",
       "5   5.0  39.689171  39.789171 -104.992628 -104.892628\n",
       "6   6.0  39.696271  39.796271 -105.018698 -104.918698\n",
       "7   7.0  39.718112  39.818112 -105.139899 -105.039899"
      ]
     },
     "execution_count": 32,
     "metadata": {},
     "output_type": "execute_result"
    }
   ],
   "source": [
    "circle_centers"
   ]
  },
  {
   "cell_type": "code",
   "execution_count": 65,
   "metadata": {},
   "outputs": [],
   "source": [
    "# # function for counting lifelines in each zone\n",
    "# def lifeline_counts_by_zone(data_df,zones_df):\n",
    "#     df = data_df.copy()\n",
    "#     df['zone'] = 20 \n",
    "#     for j in range(len(zones_df)):\n",
    "#         for i in range(len(data_df)):\n",
    "#             if data_df['latitude'][i] >= zones_df['lat_min'].iloc[j] and data_df['latitude'][i] <= zones_df['lat_max'].iloc[j]:\n",
    "#                 if data_df['longitude'][i] >= zones_df['lng_min'].iloc[j] and data_df['longitude'][i] <= zones_df['lng_max'].iloc[j]:\n",
    "#                     df['zone'].loc[i] = j\n",
    "#                     count += 1\n",
    "# #         print(j,\" : \", count)\n",
    "#     return df"
   ]
  },
  {
   "cell_type": "code",
   "execution_count": 128,
   "metadata": {},
   "outputs": [],
   "source": [
    "# function for counting lifelines in each zone\n",
    "def lifeline_counts_by_zone(data_df,zones_df):\n",
    "    df = data_df.copy()\n",
    "    df['zone'] = 20 \n",
    "    for z in range(len(zones_df)):\n",
    "\n",
    "        for p in range(len(data_df)):\n",
    "            result = is_in_zone(data_df.loc[p]['latitude'],data_df.loc[p]['longitude'],zones_df.loc[z]['latitude'],zones_df.loc[z]['longitude'])         \n",
    "            if result == True:\n",
    "                df['zone'].loc[p] = z\n",
    "\n",
    "    return df"
   ]
  },
  {
   "cell_type": "code",
   "execution_count": 139,
   "metadata": {},
   "outputs": [],
   "source": [
    "compare_df = lifeline_counts_by_zone(data,zone_coordinates)"
   ]
  },
  {
   "cell_type": "code",
   "execution_count": 140,
   "metadata": {},
   "outputs": [
    {
     "data": {
      "text/plain": [
       "6     391\n",
       "7     257\n",
       "1      51\n",
       "5      47\n",
       "2      28\n",
       "20     19\n",
       "4      13\n",
       "3       7\n",
       "Name: zone, dtype: int64"
      ]
     },
     "execution_count": 140,
     "metadata": {},
     "output_type": "execute_result"
    }
   ],
   "source": [
    "compare_df['zone'].value_counts()"
   ]
  },
  {
   "cell_type": "code",
   "execution_count": 66,
   "metadata": {},
   "outputs": [],
   "source": [
    "data = lifeline_counts_by_zone(data,circle_centers)"
   ]
  },
  {
   "cell_type": "code",
   "execution_count": 67,
   "metadata": {},
   "outputs": [
    {
     "data": {
      "text/plain": [
       "6     348\n",
       "20    141\n",
       "7      84\n",
       "2      65\n",
       "1      61\n",
       "5      45\n",
       "4      41\n",
       "3      22\n",
       "0       6\n",
       "Name: zone, dtype: int64"
      ]
     },
     "execution_count": 67,
     "metadata": {},
     "output_type": "execute_result"
    }
   ],
   "source": [
    "data['zone'].value_counts()"
   ]
  },
  {
   "cell_type": "code",
   "execution_count": 71,
   "metadata": {},
   "outputs": [
    {
     "data": {
      "text/plain": [
       "<matplotlib.legend.Legend at 0x1a20d9d910>"
      ]
     },
     "execution_count": 71,
     "metadata": {},
     "output_type": "execute_result"
    },
    {
     "data": {
      "image/png": "[encoded data removed]",
      "text/plain": [
       "<Figure size 576x576 with 1 Axes>"
      ]
     },
     "metadata": {
      "needs_background": "light"
     },
     "output_type": "display_data"
    }
   ],
   "source": [
    "plt.figure(figsize = (8,8))\n",
    "plt.scatter(data['latitude'],data['longitude'],c=data['zone'],cmap = 'tab20', s=100)\n",
    "plt.legend(data['zone'])"
   ]
  },
  {
   "cell_type": "code",
   "execution_count": 61,
   "metadata": {},
   "outputs": [],
   "source": [
    "# data.to_csv('../Data/20200217_zones.csv',index=False)"
   ]
  },
  {
   "cell_type": "code",
   "execution_count": 85,
   "metadata": {},
   "outputs": [
    {
     "ename": "TypeError",
     "evalue": "zip argument #1 must support iteration",
     "output_type": "error",
     "traceback": [
      "\u001b[0;31m---------------------------------------------------------------------------\u001b[0m",
      "\u001b[0;31mTypeError\u001b[0m                                 Traceback (most recent call last)",
      "\u001b[0;32m<ipython-input-85-7f24b474a171>\u001b[0m in \u001b[0;36m<module>\u001b[0;34m\u001b[0m\n\u001b[0;32m----> 1\u001b[0;31m \u001b[0mxy\u001b[0m \u001b[0;34m=\u001b[0m \u001b[0mzip\u001b[0m\u001b[0;34m(\u001b[0m\u001b[0mdata\u001b[0m\u001b[0;34m[\u001b[0m\u001b[0;34m'longitude'\u001b[0m\u001b[0;34m]\u001b[0m\u001b[0;34m[\u001b[0m\u001b[0;36m0\u001b[0m\u001b[0;34m]\u001b[0m\u001b[0;34m,\u001b[0m\u001b[0mdata\u001b[0m\u001b[0;34m[\u001b[0m\u001b[0;34m'latitude'\u001b[0m\u001b[0;34m]\u001b[0m\u001b[0;34m[\u001b[0m\u001b[0;36m0\u001b[0m\u001b[0;34m]\u001b[0m\u001b[0;34m)\u001b[0m\u001b[0;34m\u001b[0m\u001b[0;34m\u001b[0m\u001b[0m\n\u001b[0m\u001b[1;32m      2\u001b[0m \u001b[0mxy\u001b[0m\u001b[0;34m\u001b[0m\u001b[0;34m\u001b[0m\u001b[0m\n",
      "\u001b[0;31mTypeError\u001b[0m: zip argument #1 must support iteration"
     ]
    }
   ],
   "source": [
    "xy = zip(data['longitude'],data['latitude'])\n",
    "xy"
   ]
  },
  {
   "cell_type": "code",
   "execution_count": 83,
   "metadata": {},
   "outputs": [],
   "source": [
    "p = Point(xy)"
   ]
  },
  {
   "cell_type": "code",
   "execution_count": 84,
   "metadata": {},
   "outputs": [
    {
     "data": {
      "text/plain": [
       "False"
      ]
     },
     "execution_count": 84,
     "metadata": {},
     "output_type": "execute_result"
    }
   ],
   "source": [
    "circle.contains(p)"
   ]
  },
  {
   "cell_type": "code",
   "execution_count": 89,
   "metadata": {},
   "outputs": [
    {
     "ename": "TypeError",
     "evalue": "'tuple' object is not callable",
     "output_type": "error",
     "traceback": [
      "\u001b[0;31m---------------------------------------------------------------------------\u001b[0m",
      "\u001b[0;31mTypeError\u001b[0m                                 Traceback (most recent call last)",
      "\u001b[0;32m<ipython-input-89-e0174157b534>\u001b[0m in \u001b[0;36m<module>\u001b[0;34m\u001b[0m\n\u001b[1;32m      1\u001b[0m \u001b[0mp\u001b[0m \u001b[0;34m=\u001b[0m \u001b[0mPoint\u001b[0m\u001b[0;34m(\u001b[0m\u001b[0;34m[\u001b[0m\u001b[0;34m-\u001b[0m\u001b[0;36m104.9805872\u001b[0m\u001b[0;34m,\u001b[0m \u001b[0;36m39.6538848\u001b[0m\u001b[0;34m]\u001b[0m\u001b[0;34m)\u001b[0m\u001b[0;34m\u001b[0m\u001b[0;34m\u001b[0m\u001b[0m\n\u001b[0;32m----> 2\u001b[0;31m \u001b[0mc_test\u001b[0m \u001b[0;34m=\u001b[0m \u001b[0mp\u001b[0m\u001b[0;34m.\u001b[0m\u001b[0mbounds\u001b[0m\u001b[0;34m(\u001b[0m\u001b[0;36m.01\u001b[0m\u001b[0;34m)\u001b[0m\u001b[0;34m\u001b[0m\u001b[0;34m\u001b[0m\u001b[0m\n\u001b[0m",
      "\u001b[0;31mTypeError\u001b[0m: 'tuple' object is not callable"
     ]
    }
   ],
   "source": [
    "p = Point(dbscan.components_[0][0:2])\n",
    "circle = p.buffer(0.01) # 6.9 miles for lat and 5.3 for lng\n",
    "zone_0 = list(circle.exterior.coords)\n",
    "\n"
   ]
  },
  {
   "cell_type": "code",
   "execution_count": 90,
   "metadata": {},
   "outputs": [],
   "source": [
    "p = Point([-104.9805872, 39.6538848])\n"
   ]
  },
  {
   "cell_type": "code",
   "execution_count": 91,
   "metadata": {},
   "outputs": [],
   "source": [
    "c_test = p.buffer(.01)"
   ]
  },
  {
   "cell_type": "code",
   "execution_count": 92,
   "metadata": {},
   "outputs": [
    {
     "data": {
      "text/plain": [
       "True"
      ]
     },
     "execution_count": 92,
     "metadata": {},
     "output_type": "execute_result"
    }
   ],
   "source": [
    "c_test.contains(p)"
   ]
  },
  {
   "cell_type": "code",
   "execution_count": 94,
   "metadata": {},
   "outputs": [],
   "source": [
    "def is_in_zone(lat,lng,center_lat,center_lng):\n",
    "    p = Point([center_lat, center_lng])\n",
    "    circle = p.buffer(0.1)\n",
    "    test_point = Point([lat,lng])\n",
    "    return circle.contains(test_point)\n"
   ]
  },
  {
   "cell_type": "code",
   "execution_count": 95,
   "metadata": {},
   "outputs": [
    {
     "data": {
      "text/plain": [
       "True"
      ]
     },
     "execution_count": 95,
     "metadata": {},
     "output_type": "execute_result"
    }
   ],
   "source": [
    "is_in_zone(-104.9805872, 39.6538848,-104.9805872, 39.6538848)"
   ]
  },
  {
   "cell_type": "code",
   "execution_count": 96,
   "metadata": {},
   "outputs": [
    {
     "data": {
      "text/plain": [
       "False"
      ]
     },
     "execution_count": 96,
     "metadata": {},
     "output_type": "execute_result"
    }
   ],
   "source": [
    "is_in_zone(39.6538848, -104.9805872,-104.9805872, 39.6538848)"
   ]
  },
  {
   "cell_type": "code",
   "execution_count": 142,
   "metadata": {},
   "outputs": [
    {
     "data": {
      "text/plain": [
       "<matplotlib.legend.Legend at 0x1a2369d790>"
      ]
     },
     "execution_count": 142,
     "metadata": {},
     "output_type": "execute_result"
    },
    {
     "data": {
      "image/png": "[encoded data removed]",
      "text/plain": [
       "<Figure size 576x576 with 1 Axes>"
      ]
     },
     "metadata": {
      "needs_background": "light"
     },
     "output_type": "display_data"
    }
   ],
   "source": [
    "plt.figure(figsize = (8,8))\n",
    "plt.scatter(compare_df['latitude'],compare_df['longitude'],c=compare_df['zone'],cmap = 'tab20', s=100)\n",
    "plt.scatter(plots['latitude'],plots['longitude'],c=plots['cluster'],cmap = 'tab20', s=100,marker = 'x')\n",
    "plt.legend(compare_df['zone'])"
   ]
  },
  {
   "cell_type": "code",
   "execution_count": null,
   "metadata": {},
   "outputs": [],
   "source": []
  }
 ],
 "metadata": {
  "kernelspec": {
   "display_name": "Python 3",
   "language": "python",
   "name": "python3"
  },
  "language_info": {
   "codemirror_mode": {
    "name": "ipython",
    "version": 3
   },
   "file_extension": ".py",
   "mimetype": "text/x-python",
   "name": "python",
   "nbconvert_exporter": "python",
   "pygments_lexer": "ipython3",
   "version": "3.7.4"
  }
 },
 "nbformat": 4,
 "nbformat_minor": 2
}
