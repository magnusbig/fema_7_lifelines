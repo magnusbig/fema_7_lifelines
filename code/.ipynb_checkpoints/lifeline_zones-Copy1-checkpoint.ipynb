{
 "cells": [
  {
   "cell_type": "code",
   "execution_count": 138,
   "metadata": {},
   "outputs": [],
   "source": [
    "import pandas as pd\n",
    "import matplotlib.pyplot as plt\n",
    "import numpy as np\n",
    "import shapely\n",
    "from shapely.geometry.point import Point"
   ]
  },
  {
   "cell_type": "code",
   "execution_count": 139,
   "metadata": {},
   "outputs": [],
   "source": [
    "data = pd.read_csv('../data/clean_data/fema_lifeline_info_clean_20200218.csv')"
   ]
  },
  {
   "cell_type": "code",
   "execution_count": 140,
   "metadata": {
    "scrolled": true
   },
   "outputs": [
    {
     "data": {
      "text/html": [
       "<div>\n",
       "<style scoped>\n",
       "    .dataframe tbody tr th:only-of-type {\n",
       "        vertical-align: middle;\n",
       "    }\n",
       "\n",
       "    .dataframe tbody tr th {\n",
       "        vertical-align: top;\n",
       "    }\n",
       "\n",
       "    .dataframe thead th {\n",
       "        text-align: right;\n",
       "    }\n",
       "</style>\n",
       "<table border=\"1\" class=\"dataframe\">\n",
       "  <thead>\n",
       "    <tr style=\"text-align: right;\">\n",
       "      <th></th>\n",
       "      <th>geometry</th>\n",
       "      <th>latitude</th>\n",
       "      <th>longitude</th>\n",
       "      <th>distance</th>\n",
       "      <th>elevation</th>\n",
       "      <th>name</th>\n",
       "      <th>types</th>\n",
       "      <th>plus_code</th>\n",
       "      <th>vicinity</th>\n",
       "      <th>lifeline_number</th>\n",
       "      <th>lifeline_category</th>\n",
       "    </tr>\n",
       "  </thead>\n",
       "  <tbody>\n",
       "    <tr>\n",
       "      <th>0</th>\n",
       "      <td>{'location': {'lat': 39.340666, 'lng': -104.81...</td>\n",
       "      <td>39.340666</td>\n",
       "      <td>-104.817064</td>\n",
       "      <td>46.7923</td>\n",
       "      <td>2046</td>\n",
       "      <td>Sri Venkateswara Swamy Temple of Colorado (SV ...</td>\n",
       "      <td>['hindu_temple', 'place_of_worship', 'point_of...</td>\n",
       "      <td>{'compound_code': '85RM+75 Castle Rock, Colora...</td>\n",
       "      <td>1495 South Ridge Road, Castle Rock</td>\n",
       "      <td>1</td>\n",
       "      <td>safety_security</td>\n",
       "    </tr>\n",
       "    <tr>\n",
       "      <th>1</th>\n",
       "      <td>{'location': {'lat': 39.4033668, 'lng': -104.8...</td>\n",
       "      <td>39.403367</td>\n",
       "      <td>-104.864416</td>\n",
       "      <td>38.9159</td>\n",
       "      <td>1878</td>\n",
       "      <td>Douglas County Courthouse</td>\n",
       "      <td>['courthouse', 'local_government_office', 'poi...</td>\n",
       "      <td>{'compound_code': 'C43P+86 Castle Rock, Colora...</td>\n",
       "      <td>4000 Justice Way, Castle Rock</td>\n",
       "      <td>1</td>\n",
       "      <td>safety_security</td>\n",
       "    </tr>\n",
       "    <tr>\n",
       "      <th>2</th>\n",
       "      <td>{'location': {'lat': 39.431861, 'lng': -104.89...</td>\n",
       "      <td>39.431861</td>\n",
       "      <td>-104.897066</td>\n",
       "      <td>35.1375</td>\n",
       "      <td>1863</td>\n",
       "      <td>South Metro Fire Station 39</td>\n",
       "      <td>['fire_station', 'point_of_interest', 'establi...</td>\n",
       "      <td>{'compound_code': 'C4J3+P5 Castle Pines, Color...</td>\n",
       "      <td>475 East Happy Canyon Road, Castle Rock</td>\n",
       "      <td>1</td>\n",
       "      <td>safety_security</td>\n",
       "    </tr>\n",
       "    <tr>\n",
       "      <th>3</th>\n",
       "      <td>{'location': {'lat': 39.4907267, 'lng': -104.7...</td>\n",
       "      <td>39.490727</td>\n",
       "      <td>-104.730331</td>\n",
       "      <td>35.5253</td>\n",
       "      <td>1878</td>\n",
       "      <td>Legend High School</td>\n",
       "      <td>['secondary_school', 'school', 'point_of_inter...</td>\n",
       "      <td>{'compound_code': 'F7R9+7V Parker, Colorado, U...</td>\n",
       "      <td>22219 Hilltop Road, Parker</td>\n",
       "      <td>1</td>\n",
       "      <td>safety_security</td>\n",
       "    </tr>\n",
       "    <tr>\n",
       "      <th>4</th>\n",
       "      <td>{'location': {'lat': 39.517368, 'lng': -104.75...</td>\n",
       "      <td>39.517368</td>\n",
       "      <td>-104.753370</td>\n",
       "      <td>31.9756</td>\n",
       "      <td>1795</td>\n",
       "      <td>Parker Town Hall</td>\n",
       "      <td>['city_hall', 'local_government_office', 'poin...</td>\n",
       "      <td>{'compound_code': 'G68W+WM Parker, Colorado, U...</td>\n",
       "      <td>20120 Mainstreet, Parker</td>\n",
       "      <td>1</td>\n",
       "      <td>safety_security</td>\n",
       "    </tr>\n",
       "  </tbody>\n",
       "</table>\n",
       "</div>"
      ],
      "text/plain": [
       "                                            geometry   latitude   longitude  \\\n",
       "0  {'location': {'lat': 39.340666, 'lng': -104.81...  39.340666 -104.817064   \n",
       "1  {'location': {'lat': 39.4033668, 'lng': -104.8...  39.403367 -104.864416   \n",
       "2  {'location': {'lat': 39.431861, 'lng': -104.89...  39.431861 -104.897066   \n",
       "3  {'location': {'lat': 39.4907267, 'lng': -104.7...  39.490727 -104.730331   \n",
       "4  {'location': {'lat': 39.517368, 'lng': -104.75...  39.517368 -104.753370   \n",
       "\n",
       "   distance  elevation                                               name  \\\n",
       "0   46.7923       2046  Sri Venkateswara Swamy Temple of Colorado (SV ...   \n",
       "1   38.9159       1878                          Douglas County Courthouse   \n",
       "2   35.1375       1863                        South Metro Fire Station 39   \n",
       "3   35.5253       1878                                 Legend High School   \n",
       "4   31.9756       1795                                   Parker Town Hall   \n",
       "\n",
       "                                               types  \\\n",
       "0  ['hindu_temple', 'place_of_worship', 'point_of...   \n",
       "1  ['courthouse', 'local_government_office', 'poi...   \n",
       "2  ['fire_station', 'point_of_interest', 'establi...   \n",
       "3  ['secondary_school', 'school', 'point_of_inter...   \n",
       "4  ['city_hall', 'local_government_office', 'poin...   \n",
       "\n",
       "                                           plus_code  \\\n",
       "0  {'compound_code': '85RM+75 Castle Rock, Colora...   \n",
       "1  {'compound_code': 'C43P+86 Castle Rock, Colora...   \n",
       "2  {'compound_code': 'C4J3+P5 Castle Pines, Color...   \n",
       "3  {'compound_code': 'F7R9+7V Parker, Colorado, U...   \n",
       "4  {'compound_code': 'G68W+WM Parker, Colorado, U...   \n",
       "\n",
       "                                  vicinity  lifeline_number lifeline_category  \n",
       "0       1495 South Ridge Road, Castle Rock                1   safety_security  \n",
       "1            4000 Justice Way, Castle Rock                1   safety_security  \n",
       "2  475 East Happy Canyon Road, Castle Rock                1   safety_security  \n",
       "3               22219 Hilltop Road, Parker                1   safety_security  \n",
       "4                 20120 Mainstreet, Parker                1   safety_security  "
      ]
     },
     "execution_count": 140,
     "metadata": {},
     "output_type": "execute_result"
    }
   ],
   "source": [
    "data.head()"
   ]
  },
  {
   "cell_type": "markdown",
   "metadata": {},
   "source": [
    "## Investigate sub-areas based on lifeline types"
   ]
  },
  {
   "cell_type": "code",
   "execution_count": 141,
   "metadata": {
    "scrolled": false
   },
   "outputs": [
    {
     "data": {
      "text/plain": [
       "1    274\n",
       "2    239\n",
       "6    148\n",
       "3    125\n",
       "5     30\n",
       "4     20\n",
       "Name: lifeline_number, dtype: int64"
      ]
     },
     "execution_count": 141,
     "metadata": {},
     "output_type": "execute_result"
    }
   ],
   "source": [
    "# check number of lifelines\n",
    "data['lifeline_number'].value_counts()"
   ]
  },
  {
   "cell_type": "code",
   "execution_count": 142,
   "metadata": {},
   "outputs": [],
   "source": [
    "# plot hospitals \n",
    "health_medical = data[data['lifeline_number'] == 3]"
   ]
  },
  {
   "cell_type": "code",
   "execution_count": 143,
   "metadata": {},
   "outputs": [
    {
     "name": "stdout",
     "output_type": "stream",
     "text": [
      "['hospital', 'point_of_interest', 'establishment']\n",
      "['hospital', 'point_of_interest', 'establishment']\n",
      "['hospital', 'point_of_interest', 'establishment']\n",
      "['hospital', 'point_of_interest', 'establishment']\n",
      "['hospital', 'health', 'point_of_interest', 'establishment']\n",
      "['hospital', 'health', 'point_of_interest', 'establishment']\n",
      "['hospital', 'doctor', 'local_government_office', 'health', 'point_of_interest', 'establishment']\n",
      "['hospital', 'point_of_interest', 'establishment']\n",
      "['hospital', 'point_of_interest', 'establishment']\n",
      "['hospital', 'doctor', 'health', 'point_of_interest', 'establishment']\n",
      "['hospital', 'point_of_interest', 'establishment']\n",
      "['hospital', 'university', 'health', 'point_of_interest', 'establishment']\n",
      "['hospital', 'health', 'point_of_interest', 'establishment']\n",
      "['hospital', 'point_of_interest', 'establishment']\n",
      "['hospital', 'point_of_interest', 'establishment']\n",
      "['hospital', 'point_of_interest', 'establishment']\n",
      "['hospital', 'health', 'point_of_interest', 'establishment']\n",
      "['hospital', 'point_of_interest', 'establishment']\n",
      "['pharmacy', 'hospital', 'doctor', 'health', 'point_of_interest', 'store', 'establishment']\n"
     ]
    }
   ],
   "source": [
    "for i in health_medical['types']:\n",
    "    if 'hospital' in i:\n",
    "        print(i)"
   ]
  },
  {
   "cell_type": "code",
   "execution_count": 144,
   "metadata": {},
   "outputs": [],
   "source": [
    "hospitals_index = []\n",
    "for i in range(len(data)):\n",
    "     if 'hospital' in data.loc[i]['types']:\n",
    "        hospitals_index.append(i)"
   ]
  },
  {
   "cell_type": "code",
   "execution_count": 145,
   "metadata": {
    "scrolled": false
   },
   "outputs": [
    {
     "data": {
      "text/plain": [
       "[520,\n",
       " 526,\n",
       " 543,\n",
       " 544,\n",
       " 562,\n",
       " 567,\n",
       " 569,\n",
       " 572,\n",
       " 577,\n",
       " 586,\n",
       " 591,\n",
       " 595,\n",
       " 597,\n",
       " 599,\n",
       " 603,\n",
       " 611,\n",
       " 627,\n",
       " 629,\n",
       " 634]"
      ]
     },
     "execution_count": 145,
     "metadata": {},
     "output_type": "execute_result"
    }
   ],
   "source": [
    "hospitals_index"
   ]
  },
  {
   "cell_type": "code",
   "execution_count": 146,
   "metadata": {
    "scrolled": true
   },
   "outputs": [
    {
     "data": {
      "text/html": [
       "<div>\n",
       "<style scoped>\n",
       "    .dataframe tbody tr th:only-of-type {\n",
       "        vertical-align: middle;\n",
       "    }\n",
       "\n",
       "    .dataframe tbody tr th {\n",
       "        vertical-align: top;\n",
       "    }\n",
       "\n",
       "    .dataframe thead th {\n",
       "        text-align: right;\n",
       "    }\n",
       "</style>\n",
       "<table border=\"1\" class=\"dataframe\">\n",
       "  <thead>\n",
       "    <tr style=\"text-align: right;\">\n",
       "      <th></th>\n",
       "      <th>geometry</th>\n",
       "      <th>latitude</th>\n",
       "      <th>longitude</th>\n",
       "      <th>distance</th>\n",
       "      <th>elevation</th>\n",
       "      <th>name</th>\n",
       "      <th>types</th>\n",
       "      <th>plus_code</th>\n",
       "      <th>vicinity</th>\n",
       "      <th>lifeline_number</th>\n",
       "      <th>lifeline_category</th>\n",
       "    </tr>\n",
       "  </thead>\n",
       "  <tbody>\n",
       "    <tr>\n",
       "      <th>520</th>\n",
       "      <td>{'location': {'lat': 39.5486133, 'lng': -104.7...</td>\n",
       "      <td>39.548613</td>\n",
       "      <td>-104.771038</td>\n",
       "      <td>28.3433</td>\n",
       "      <td>1775</td>\n",
       "      <td>Parker Adventist Hospital</td>\n",
       "      <td>['hospital', 'point_of_interest', 'establishme...</td>\n",
       "      <td>{'compound_code': 'G6XH+CH Parker, Colorado, U...</td>\n",
       "      <td>9395 Crown Crest Boulevard, Parker</td>\n",
       "      <td>3</td>\n",
       "      <td>health_medical</td>\n",
       "    </tr>\n",
       "    <tr>\n",
       "      <th>526</th>\n",
       "      <td>{'location': {'lat': 39.5761189, 'lng': -104.9...</td>\n",
       "      <td>39.576119</td>\n",
       "      <td>-104.985738</td>\n",
       "      <td>18.1618</td>\n",
       "      <td>1703</td>\n",
       "      <td>Littleton Adventist Hospital</td>\n",
       "      <td>['hospital', 'point_of_interest', 'establishme...</td>\n",
       "      <td>{'compound_code': 'H2G7+CP Littleton, Colorado...</td>\n",
       "      <td>7700 South Broadway, Littleton</td>\n",
       "      <td>3</td>\n",
       "      <td>health_medical</td>\n",
       "    </tr>\n",
       "    <tr>\n",
       "      <th>543</th>\n",
       "      <td>{'location': {'lat': 39.65388480000001, 'lng':...</td>\n",
       "      <td>39.653885</td>\n",
       "      <td>-104.980587</td>\n",
       "      <td>9.5370</td>\n",
       "      <td>1633</td>\n",
       "      <td>Swedish Medical Center</td>\n",
       "      <td>['hospital', 'point_of_interest', 'establishme...</td>\n",
       "      <td>{'compound_code': 'M239+HQ Englewood, Colorado...</td>\n",
       "      <td>501 East Hampden Avenue, Englewood</td>\n",
       "      <td>3</td>\n",
       "      <td>health_medical</td>\n",
       "    </tr>\n",
       "    <tr>\n",
       "      <th>544</th>\n",
       "      <td>{'location': {'lat': 39.65427, 'lng': -104.978...</td>\n",
       "      <td>39.654270</td>\n",
       "      <td>-104.978889</td>\n",
       "      <td>9.5081</td>\n",
       "      <td>1640</td>\n",
       "      <td>Craig Hospital</td>\n",
       "      <td>['hospital', 'point_of_interest', 'establishme...</td>\n",
       "      <td>{'compound_code': 'M23C+PC Englewood, Colorado...</td>\n",
       "      <td>3425 South Clarkson Street, Englewood</td>\n",
       "      <td>3</td>\n",
       "      <td>health_medical</td>\n",
       "    </tr>\n",
       "    <tr>\n",
       "      <th>562</th>\n",
       "      <td>{'location': {'lat': 39.7163135, 'lng': -105.1...</td>\n",
       "      <td>39.716313</td>\n",
       "      <td>-105.129363</td>\n",
       "      <td>12.1801</td>\n",
       "      <td>1735</td>\n",
       "      <td>St. Anthony Hospital</td>\n",
       "      <td>['hospital', 'health', 'point_of_interest', 'e...</td>\n",
       "      <td>{'compound_code': 'PV8C+G7 Lakewood, Colorado,...</td>\n",
       "      <td>11600 West 2nd Place, Lakewood</td>\n",
       "      <td>3</td>\n",
       "      <td>health_medical</td>\n",
       "    </tr>\n",
       "    <tr>\n",
       "      <th>567</th>\n",
       "      <td>{'location': {'lat': 39.7271572, 'lng': -104.9...</td>\n",
       "      <td>39.727157</td>\n",
       "      <td>-104.991058</td>\n",
       "      <td>1.3463</td>\n",
       "      <td>1599</td>\n",
       "      <td>Denver Health</td>\n",
       "      <td>['hospital', 'health', 'point_of_interest', 'e...</td>\n",
       "      <td>{'compound_code': 'P2G5+VH Denver, Colorado, U...</td>\n",
       "      <td>777 Bannock Street, Denver</td>\n",
       "      <td>3</td>\n",
       "      <td>health_medical</td>\n",
       "    </tr>\n",
       "    <tr>\n",
       "      <th>569</th>\n",
       "      <td>{'location': {'lat': 39.730754, 'lng': -104.93...</td>\n",
       "      <td>39.730754</td>\n",
       "      <td>-104.934277</td>\n",
       "      <td>4.8837</td>\n",
       "      <td>1625</td>\n",
       "      <td>Ninth Avenue Internal Medicine</td>\n",
       "      <td>['hospital', 'doctor', 'local_government_offic...</td>\n",
       "      <td>{'compound_code': 'P3J8+87 Denver, Colorado, U...</td>\n",
       "      <td>4500 East 9th Avenue #140, Denver</td>\n",
       "      <td>3</td>\n",
       "      <td>health_medical</td>\n",
       "    </tr>\n",
       "    <tr>\n",
       "      <th>572</th>\n",
       "      <td>{'location': {'lat': 39.7320291, 'lng': -104.9...</td>\n",
       "      <td>39.732029</td>\n",
       "      <td>-104.933560</td>\n",
       "      <td>4.9188</td>\n",
       "      <td>1620</td>\n",
       "      <td>Rose Medical Center</td>\n",
       "      <td>['hospital', 'point_of_interest', 'establishme...</td>\n",
       "      <td>{'compound_code': 'P3J8+RH Denver, Colorado, U...</td>\n",
       "      <td>4567 East 9th Avenue, Denver</td>\n",
       "      <td>3</td>\n",
       "      <td>health_medical</td>\n",
       "    </tr>\n",
       "    <tr>\n",
       "      <th>577</th>\n",
       "      <td>{'location': {'lat': 39.7391706, 'lng': -104.9...</td>\n",
       "      <td>39.739171</td>\n",
       "      <td>-104.942628</td>\n",
       "      <td>4.0765</td>\n",
       "      <td>1614</td>\n",
       "      <td>National Jewish Health</td>\n",
       "      <td>['hospital', 'point_of_interest', 'establishme...</td>\n",
       "      <td>{'compound_code': 'P3Q4+MW Denver, Colorado, U...</td>\n",
       "      <td>1400 Jackson Street, Denver</td>\n",
       "      <td>3</td>\n",
       "      <td>health_medical</td>\n",
       "    </tr>\n",
       "    <tr>\n",
       "      <th>586</th>\n",
       "      <td>{'location': {'lat': 39.7423359, 'lng': -104.8...</td>\n",
       "      <td>39.742336</td>\n",
       "      <td>-104.841558</td>\n",
       "      <td>12.7323</td>\n",
       "      <td>1640</td>\n",
       "      <td>University of Colorado (CU) Urogynecology</td>\n",
       "      <td>['hospital', 'doctor', 'health', 'point_of_int...</td>\n",
       "      <td>{'compound_code': 'P5R5+W9 Aurora, Colorado, U...</td>\n",
       "      <td>1635 Aurora Court, Aurora</td>\n",
       "      <td>3</td>\n",
       "      <td>health_medical</td>\n",
       "    </tr>\n",
       "    <tr>\n",
       "      <th>591</th>\n",
       "      <td>{'location': {'lat': 39.7426294, 'lng': -104.8...</td>\n",
       "      <td>39.742629</td>\n",
       "      <td>-104.842029</td>\n",
       "      <td>12.6929</td>\n",
       "      <td>1641</td>\n",
       "      <td>UCHealth University of Colorado Hospital (UCH)</td>\n",
       "      <td>['hospital', 'point_of_interest', 'establishme...</td>\n",
       "      <td>{'compound_code': 'P5V5+35 Aurora, Colorado, U...</td>\n",
       "      <td>12605 East 16th Avenue, Aurora</td>\n",
       "      <td>3</td>\n",
       "      <td>health_medical</td>\n",
       "    </tr>\n",
       "    <tr>\n",
       "      <th>595</th>\n",
       "      <td>{'location': {'lat': 39.743954, 'lng': -104.83...</td>\n",
       "      <td>39.743954</td>\n",
       "      <td>-104.837609</td>\n",
       "      <td>13.0761</td>\n",
       "      <td>1641</td>\n",
       "      <td>University of Colorado Anschutz Medical Campus...</td>\n",
       "      <td>['hospital', 'university', 'health', 'point_of...</td>\n",
       "      <td>{'compound_code': 'P5V6+HX Aurora, Colorado, U...</td>\n",
       "      <td>13001 East 17th Place Mail Stop F413 Room CG00...</td>\n",
       "      <td>3</td>\n",
       "      <td>health_medical</td>\n",
       "    </tr>\n",
       "    <tr>\n",
       "      <th>597</th>\n",
       "      <td>{'location': {'lat': 39.7450137, 'lng': -104.9...</td>\n",
       "      <td>39.745014</td>\n",
       "      <td>-104.968723</td>\n",
       "      <td>1.9517</td>\n",
       "      <td>1611</td>\n",
       "      <td>Fresenius Medical Care at Exempla St. Joseph M...</td>\n",
       "      <td>['hospital', 'health', 'point_of_interest', 'e...</td>\n",
       "      <td>{'compound_code': 'P2WJ+2G Denver, Colorado, U...</td>\n",
       "      <td>1835 Franklin Street, Denver</td>\n",
       "      <td>3</td>\n",
       "      <td>health_medical</td>\n",
       "    </tr>\n",
       "    <tr>\n",
       "      <th>599</th>\n",
       "      <td>{'location': {'lat': 39.74618819999999, 'lng':...</td>\n",
       "      <td>39.746188</td>\n",
       "      <td>-104.971727</td>\n",
       "      <td>1.7644</td>\n",
       "      <td>1609</td>\n",
       "      <td>Daniel W Fosburgh M.D. | Kaiser Permanente</td>\n",
       "      <td>['hospital', 'point_of_interest', 'establishme...</td>\n",
       "      <td>{'compound_code': 'P2WH+F8 Denver, Colorado, U...</td>\n",
       "      <td>1375 East 19th Avenue, Denver</td>\n",
       "      <td>3</td>\n",
       "      <td>health_medical</td>\n",
       "    </tr>\n",
       "    <tr>\n",
       "      <th>603</th>\n",
       "      <td>{'location': {'lat': 39.7472051, 'lng': -104.9...</td>\n",
       "      <td>39.747205</td>\n",
       "      <td>-104.966547</td>\n",
       "      <td>2.2144</td>\n",
       "      <td>1614</td>\n",
       "      <td>Presbyterian St. Luke's Medical Center</td>\n",
       "      <td>['hospital', 'point_of_interest', 'establishme...</td>\n",
       "      <td>{'compound_code': 'P2WM+V9 Denver, Colorado, U...</td>\n",
       "      <td>1719 East 19th Avenue, Denver</td>\n",
       "      <td>3</td>\n",
       "      <td>health_medical</td>\n",
       "    </tr>\n",
       "    <tr>\n",
       "      <th>611</th>\n",
       "      <td>{'location': {'lat': 39.7681121, 'lng': -105.0...</td>\n",
       "      <td>39.768112</td>\n",
       "      <td>-105.089899</td>\n",
       "      <td>9.1136</td>\n",
       "      <td>1672</td>\n",
       "      <td>Lutheran Medical Center</td>\n",
       "      <td>['hospital', 'point_of_interest', 'establishme...</td>\n",
       "      <td>{'compound_code': 'QW96+62 Wheat Ridge, Colora...</td>\n",
       "      <td>8300 West 38th Avenue, Wheat Ridge</td>\n",
       "      <td>3</td>\n",
       "      <td>health_medical</td>\n",
       "    </tr>\n",
       "    <tr>\n",
       "      <th>627</th>\n",
       "      <td>{'location': {'lat': 39.9519333, 'lng': -105.1...</td>\n",
       "      <td>39.951933</td>\n",
       "      <td>-105.151746</td>\n",
       "      <td>27.4062</td>\n",
       "      <td>1677</td>\n",
       "      <td>Avista Adventist Hospital</td>\n",
       "      <td>['hospital', 'health', 'point_of_interest', 'e...</td>\n",
       "      <td>{'compound_code': 'XR2X+Q8 Louisville, Colorad...</td>\n",
       "      <td>100 Health Park Drive, Louisville</td>\n",
       "      <td>3</td>\n",
       "      <td>health_medical</td>\n",
       "    </tr>\n",
       "    <tr>\n",
       "      <th>629</th>\n",
       "      <td>{'location': {'lat': 39.96997020000001, 'lng':...</td>\n",
       "      <td>39.969970</td>\n",
       "      <td>-105.086874</td>\n",
       "      <td>26.9792</td>\n",
       "      <td>1586</td>\n",
       "      <td>Good Samaritan Medical Center</td>\n",
       "      <td>['hospital', 'point_of_interest', 'establishme...</td>\n",
       "      <td>{'compound_code': 'XW97+X7 Lafayette, Colorado...</td>\n",
       "      <td>200 Exempla Circle, Lafayette</td>\n",
       "      <td>3</td>\n",
       "      <td>health_medical</td>\n",
       "    </tr>\n",
       "    <tr>\n",
       "      <th>634</th>\n",
       "      <td>{'location': {'lat': 40.02636500000001, 'lng':...</td>\n",
       "      <td>40.026365</td>\n",
       "      <td>-105.281491</td>\n",
       "      <td>40.5030</td>\n",
       "      <td>1638</td>\n",
       "      <td>Boulder Medical Center - Broadway</td>\n",
       "      <td>['pharmacy', 'hospital', 'doctor', 'health', '...</td>\n",
       "      <td>{'compound_code': '2PG9+GC Boulder, Colorado, ...</td>\n",
       "      <td>2750 Broadway, Boulder</td>\n",
       "      <td>3</td>\n",
       "      <td>health_medical</td>\n",
       "    </tr>\n",
       "  </tbody>\n",
       "</table>\n",
       "</div>"
      ],
      "text/plain": [
       "                                              geometry   latitude   longitude  \\\n",
       "520  {'location': {'lat': 39.5486133, 'lng': -104.7...  39.548613 -104.771038   \n",
       "526  {'location': {'lat': 39.5761189, 'lng': -104.9...  39.576119 -104.985738   \n",
       "543  {'location': {'lat': 39.65388480000001, 'lng':...  39.653885 -104.980587   \n",
       "544  {'location': {'lat': 39.65427, 'lng': -104.978...  39.654270 -104.978889   \n",
       "562  {'location': {'lat': 39.7163135, 'lng': -105.1...  39.716313 -105.129363   \n",
       "567  {'location': {'lat': 39.7271572, 'lng': -104.9...  39.727157 -104.991058   \n",
       "569  {'location': {'lat': 39.730754, 'lng': -104.93...  39.730754 -104.934277   \n",
       "572  {'location': {'lat': 39.7320291, 'lng': -104.9...  39.732029 -104.933560   \n",
       "577  {'location': {'lat': 39.7391706, 'lng': -104.9...  39.739171 -104.942628   \n",
       "586  {'location': {'lat': 39.7423359, 'lng': -104.8...  39.742336 -104.841558   \n",
       "591  {'location': {'lat': 39.7426294, 'lng': -104.8...  39.742629 -104.842029   \n",
       "595  {'location': {'lat': 39.743954, 'lng': -104.83...  39.743954 -104.837609   \n",
       "597  {'location': {'lat': 39.7450137, 'lng': -104.9...  39.745014 -104.968723   \n",
       "599  {'location': {'lat': 39.74618819999999, 'lng':...  39.746188 -104.971727   \n",
       "603  {'location': {'lat': 39.7472051, 'lng': -104.9...  39.747205 -104.966547   \n",
       "611  {'location': {'lat': 39.7681121, 'lng': -105.0...  39.768112 -105.089899   \n",
       "627  {'location': {'lat': 39.9519333, 'lng': -105.1...  39.951933 -105.151746   \n",
       "629  {'location': {'lat': 39.96997020000001, 'lng':...  39.969970 -105.086874   \n",
       "634  {'location': {'lat': 40.02636500000001, 'lng':...  40.026365 -105.281491   \n",
       "\n",
       "     distance  elevation                                               name  \\\n",
       "520   28.3433       1775                          Parker Adventist Hospital   \n",
       "526   18.1618       1703                       Littleton Adventist Hospital   \n",
       "543    9.5370       1633                             Swedish Medical Center   \n",
       "544    9.5081       1640                                     Craig Hospital   \n",
       "562   12.1801       1735                               St. Anthony Hospital   \n",
       "567    1.3463       1599                                      Denver Health   \n",
       "569    4.8837       1625                     Ninth Avenue Internal Medicine   \n",
       "572    4.9188       1620                                Rose Medical Center   \n",
       "577    4.0765       1614                             National Jewish Health   \n",
       "586   12.7323       1640          University of Colorado (CU) Urogynecology   \n",
       "591   12.6929       1641     UCHealth University of Colorado Hospital (UCH)   \n",
       "595   13.0761       1641  University of Colorado Anschutz Medical Campus...   \n",
       "597    1.9517       1611  Fresenius Medical Care at Exempla St. Joseph M...   \n",
       "599    1.7644       1609         Daniel W Fosburgh M.D. | Kaiser Permanente   \n",
       "603    2.2144       1614             Presbyterian St. Luke's Medical Center   \n",
       "611    9.1136       1672                            Lutheran Medical Center   \n",
       "627   27.4062       1677                          Avista Adventist Hospital   \n",
       "629   26.9792       1586                      Good Samaritan Medical Center   \n",
       "634   40.5030       1638                  Boulder Medical Center - Broadway   \n",
       "\n",
       "                                                 types  \\\n",
       "520  ['hospital', 'point_of_interest', 'establishme...   \n",
       "526  ['hospital', 'point_of_interest', 'establishme...   \n",
       "543  ['hospital', 'point_of_interest', 'establishme...   \n",
       "544  ['hospital', 'point_of_interest', 'establishme...   \n",
       "562  ['hospital', 'health', 'point_of_interest', 'e...   \n",
       "567  ['hospital', 'health', 'point_of_interest', 'e...   \n",
       "569  ['hospital', 'doctor', 'local_government_offic...   \n",
       "572  ['hospital', 'point_of_interest', 'establishme...   \n",
       "577  ['hospital', 'point_of_interest', 'establishme...   \n",
       "586  ['hospital', 'doctor', 'health', 'point_of_int...   \n",
       "591  ['hospital', 'point_of_interest', 'establishme...   \n",
       "595  ['hospital', 'university', 'health', 'point_of...   \n",
       "597  ['hospital', 'health', 'point_of_interest', 'e...   \n",
       "599  ['hospital', 'point_of_interest', 'establishme...   \n",
       "603  ['hospital', 'point_of_interest', 'establishme...   \n",
       "611  ['hospital', 'point_of_interest', 'establishme...   \n",
       "627  ['hospital', 'health', 'point_of_interest', 'e...   \n",
       "629  ['hospital', 'point_of_interest', 'establishme...   \n",
       "634  ['pharmacy', 'hospital', 'doctor', 'health', '...   \n",
       "\n",
       "                                             plus_code  \\\n",
       "520  {'compound_code': 'G6XH+CH Parker, Colorado, U...   \n",
       "526  {'compound_code': 'H2G7+CP Littleton, Colorado...   \n",
       "543  {'compound_code': 'M239+HQ Englewood, Colorado...   \n",
       "544  {'compound_code': 'M23C+PC Englewood, Colorado...   \n",
       "562  {'compound_code': 'PV8C+G7 Lakewood, Colorado,...   \n",
       "567  {'compound_code': 'P2G5+VH Denver, Colorado, U...   \n",
       "569  {'compound_code': 'P3J8+87 Denver, Colorado, U...   \n",
       "572  {'compound_code': 'P3J8+RH Denver, Colorado, U...   \n",
       "577  {'compound_code': 'P3Q4+MW Denver, Colorado, U...   \n",
       "586  {'compound_code': 'P5R5+W9 Aurora, Colorado, U...   \n",
       "591  {'compound_code': 'P5V5+35 Aurora, Colorado, U...   \n",
       "595  {'compound_code': 'P5V6+HX Aurora, Colorado, U...   \n",
       "597  {'compound_code': 'P2WJ+2G Denver, Colorado, U...   \n",
       "599  {'compound_code': 'P2WH+F8 Denver, Colorado, U...   \n",
       "603  {'compound_code': 'P2WM+V9 Denver, Colorado, U...   \n",
       "611  {'compound_code': 'QW96+62 Wheat Ridge, Colora...   \n",
       "627  {'compound_code': 'XR2X+Q8 Louisville, Colorad...   \n",
       "629  {'compound_code': 'XW97+X7 Lafayette, Colorado...   \n",
       "634  {'compound_code': '2PG9+GC Boulder, Colorado, ...   \n",
       "\n",
       "                                              vicinity  lifeline_number  \\\n",
       "520                 9395 Crown Crest Boulevard, Parker                3   \n",
       "526                     7700 South Broadway, Littleton                3   \n",
       "543                 501 East Hampden Avenue, Englewood                3   \n",
       "544              3425 South Clarkson Street, Englewood                3   \n",
       "562                     11600 West 2nd Place, Lakewood                3   \n",
       "567                         777 Bannock Street, Denver                3   \n",
       "569                  4500 East 9th Avenue #140, Denver                3   \n",
       "572                       4567 East 9th Avenue, Denver                3   \n",
       "577                        1400 Jackson Street, Denver                3   \n",
       "586                          1635 Aurora Court, Aurora                3   \n",
       "591                     12605 East 16th Avenue, Aurora                3   \n",
       "595  13001 East 17th Place Mail Stop F413 Room CG00...                3   \n",
       "597                       1835 Franklin Street, Denver                3   \n",
       "599                      1375 East 19th Avenue, Denver                3   \n",
       "603                      1719 East 19th Avenue, Denver                3   \n",
       "611                 8300 West 38th Avenue, Wheat Ridge                3   \n",
       "627                  100 Health Park Drive, Louisville                3   \n",
       "629                      200 Exempla Circle, Lafayette                3   \n",
       "634                             2750 Broadway, Boulder                3   \n",
       "\n",
       "    lifeline_category  \n",
       "520    health_medical  \n",
       "526    health_medical  \n",
       "543    health_medical  \n",
       "544    health_medical  \n",
       "562    health_medical  \n",
       "567    health_medical  \n",
       "569    health_medical  \n",
       "572    health_medical  \n",
       "577    health_medical  \n",
       "586    health_medical  \n",
       "591    health_medical  \n",
       "595    health_medical  \n",
       "597    health_medical  \n",
       "599    health_medical  \n",
       "603    health_medical  \n",
       "611    health_medical  \n",
       "627    health_medical  \n",
       "629    health_medical  \n",
       "634    health_medical  "
      ]
     },
     "execution_count": 146,
     "metadata": {},
     "output_type": "execute_result"
    }
   ],
   "source": [
    "# sort datarame on hospitals\n",
    "data.loc[hospitals_index]"
   ]
  },
  {
   "cell_type": "code",
   "execution_count": 147,
   "metadata": {},
   "outputs": [],
   "source": [
    "# assign x (latitude) and y (longitude) for hospitals\n",
    "plots = data.loc[hospitals_index][['latitude','longitude']]\n"
   ]
  },
  {
   "cell_type": "code",
   "execution_count": 148,
   "metadata": {
    "scrolled": true
   },
   "outputs": [
    {
     "data": {
      "text/html": [
       "<div>\n",
       "<style scoped>\n",
       "    .dataframe tbody tr th:only-of-type {\n",
       "        vertical-align: middle;\n",
       "    }\n",
       "\n",
       "    .dataframe tbody tr th {\n",
       "        vertical-align: top;\n",
       "    }\n",
       "\n",
       "    .dataframe thead th {\n",
       "        text-align: right;\n",
       "    }\n",
       "</style>\n",
       "<table border=\"1\" class=\"dataframe\">\n",
       "  <thead>\n",
       "    <tr style=\"text-align: right;\">\n",
       "      <th></th>\n",
       "      <th>latitude</th>\n",
       "      <th>longitude</th>\n",
       "    </tr>\n",
       "  </thead>\n",
       "  <tbody>\n",
       "    <tr>\n",
       "      <th>520</th>\n",
       "      <td>39.548613</td>\n",
       "      <td>-104.771038</td>\n",
       "    </tr>\n",
       "    <tr>\n",
       "      <th>526</th>\n",
       "      <td>39.576119</td>\n",
       "      <td>-104.985738</td>\n",
       "    </tr>\n",
       "    <tr>\n",
       "      <th>543</th>\n",
       "      <td>39.653885</td>\n",
       "      <td>-104.980587</td>\n",
       "    </tr>\n",
       "    <tr>\n",
       "      <th>544</th>\n",
       "      <td>39.654270</td>\n",
       "      <td>-104.978889</td>\n",
       "    </tr>\n",
       "    <tr>\n",
       "      <th>562</th>\n",
       "      <td>39.716313</td>\n",
       "      <td>-105.129363</td>\n",
       "    </tr>\n",
       "    <tr>\n",
       "      <th>567</th>\n",
       "      <td>39.727157</td>\n",
       "      <td>-104.991058</td>\n",
       "    </tr>\n",
       "    <tr>\n",
       "      <th>569</th>\n",
       "      <td>39.730754</td>\n",
       "      <td>-104.934277</td>\n",
       "    </tr>\n",
       "    <tr>\n",
       "      <th>572</th>\n",
       "      <td>39.732029</td>\n",
       "      <td>-104.933560</td>\n",
       "    </tr>\n",
       "    <tr>\n",
       "      <th>577</th>\n",
       "      <td>39.739171</td>\n",
       "      <td>-104.942628</td>\n",
       "    </tr>\n",
       "    <tr>\n",
       "      <th>586</th>\n",
       "      <td>39.742336</td>\n",
       "      <td>-104.841558</td>\n",
       "    </tr>\n",
       "    <tr>\n",
       "      <th>591</th>\n",
       "      <td>39.742629</td>\n",
       "      <td>-104.842029</td>\n",
       "    </tr>\n",
       "    <tr>\n",
       "      <th>595</th>\n",
       "      <td>39.743954</td>\n",
       "      <td>-104.837609</td>\n",
       "    </tr>\n",
       "    <tr>\n",
       "      <th>597</th>\n",
       "      <td>39.745014</td>\n",
       "      <td>-104.968723</td>\n",
       "    </tr>\n",
       "    <tr>\n",
       "      <th>599</th>\n",
       "      <td>39.746188</td>\n",
       "      <td>-104.971727</td>\n",
       "    </tr>\n",
       "    <tr>\n",
       "      <th>603</th>\n",
       "      <td>39.747205</td>\n",
       "      <td>-104.966547</td>\n",
       "    </tr>\n",
       "    <tr>\n",
       "      <th>611</th>\n",
       "      <td>39.768112</td>\n",
       "      <td>-105.089899</td>\n",
       "    </tr>\n",
       "    <tr>\n",
       "      <th>627</th>\n",
       "      <td>39.951933</td>\n",
       "      <td>-105.151746</td>\n",
       "    </tr>\n",
       "    <tr>\n",
       "      <th>629</th>\n",
       "      <td>39.969970</td>\n",
       "      <td>-105.086874</td>\n",
       "    </tr>\n",
       "    <tr>\n",
       "      <th>634</th>\n",
       "      <td>40.026365</td>\n",
       "      <td>-105.281491</td>\n",
       "    </tr>\n",
       "  </tbody>\n",
       "</table>\n",
       "</div>"
      ],
      "text/plain": [
       "      latitude   longitude\n",
       "520  39.548613 -104.771038\n",
       "526  39.576119 -104.985738\n",
       "543  39.653885 -104.980587\n",
       "544  39.654270 -104.978889\n",
       "562  39.716313 -105.129363\n",
       "567  39.727157 -104.991058\n",
       "569  39.730754 -104.934277\n",
       "572  39.732029 -104.933560\n",
       "577  39.739171 -104.942628\n",
       "586  39.742336 -104.841558\n",
       "591  39.742629 -104.842029\n",
       "595  39.743954 -104.837609\n",
       "597  39.745014 -104.968723\n",
       "599  39.746188 -104.971727\n",
       "603  39.747205 -104.966547\n",
       "611  39.768112 -105.089899\n",
       "627  39.951933 -105.151746\n",
       "629  39.969970 -105.086874\n",
       "634  40.026365 -105.281491"
      ]
     },
     "execution_count": 148,
     "metadata": {},
     "output_type": "execute_result"
    }
   ],
   "source": [
    "plots"
   ]
  },
  {
   "cell_type": "code",
   "execution_count": 149,
   "metadata": {
    "scrolled": true
   },
   "outputs": [
    {
     "data": {
      "text/plain": [
       "<matplotlib.collections.PathCollection at 0x1a2cd0c790>"
      ]
     },
     "execution_count": 149,
     "metadata": {},
     "output_type": "execute_result"
    },
    {
     "data": {
      "image/png": "[encoded data removed]",
      "text/plain": [
       "<Figure size 432x288 with 1 Axes>"
      ]
     },
     "metadata": {
      "needs_background": "light"
     },
     "output_type": "display_data"
    }
   ],
   "source": [
    "# plot hospitals\n",
    "plt.scatter(plots['latitude'],plots['longitude'])"
   ]
  },
  {
   "cell_type": "markdown",
   "metadata": {},
   "source": [
    "## Use DBSCAN to find lifeline zones"
   ]
  },
  {
   "cell_type": "code",
   "execution_count": 150,
   "metadata": {},
   "outputs": [],
   "source": [
    "from sklearn.preprocessing import StandardScaler\n",
    "from sklearn.metrics import silhouette_score\n",
    "from sklearn.cluster import DBSCAN\n",
    "import seaborn as sns"
   ]
  },
  {
   "cell_type": "code",
   "execution_count": 151,
   "metadata": {},
   "outputs": [
    {
     "data": {
      "text/plain": [
       "DBSCAN(algorithm='auto', eps=0.1, leaf_size=30, metric='euclidean',\n",
       "       metric_params=None, min_samples=1, n_jobs=None, p=None)"
      ]
     },
     "execution_count": 151,
     "metadata": {},
     "output_type": "execute_result"
    }
   ],
   "source": [
    "#each degree of latitude is approximately 69 miles, every tenth of a degree is 6.9 miles\n",
    "#epsilon set to ~ 6.9 miles\n",
    "\n",
    "dbscan = DBSCAN(eps = 0.1, min_samples = 1)  #defaults\n",
    "dbscan.fit(plots)"
   ]
  },
  {
   "cell_type": "code",
   "execution_count": 152,
   "metadata": {},
   "outputs": [
    {
     "data": {
      "text/plain": [
       "array([0, 1, 1, 1, 2, 1, 1, 1, 1, 1, 1, 1, 1, 1, 1, 2, 3, 3, 4])"
      ]
     },
     "execution_count": 152,
     "metadata": {},
     "output_type": "execute_result"
    }
   ],
   "source": [
    "labels = dbscan.labels_\n",
    "labels"
   ]
  },
  {
   "cell_type": "code",
   "execution_count": 153,
   "metadata": {},
   "outputs": [],
   "source": [
    "plots['cluster'] = dbscan.labels_"
   ]
  },
  {
   "cell_type": "code",
   "execution_count": 154,
   "metadata": {},
   "outputs": [
    {
     "data": {
      "text/plain": [
       "<matplotlib.collections.PathCollection at 0x1a2e5c5110>"
      ]
     },
     "execution_count": 154,
     "metadata": {},
     "output_type": "execute_result"
    },
    {
     "data": {
      "image/png": "[encoded data removed]",
      "text/plain": [
       "<Figure size 576x576 with 1 Axes>"
      ]
     },
     "metadata": {
      "needs_background": "light"
     },
     "output_type": "display_data"
    }
   ],
   "source": [
    "plt.figure(figsize = (8,8))\n",
    "plt.scatter(plots['latitude'],plots['longitude'],c=plots['cluster'],cmap = 'tab20', s=100)\n",
    "#plt.scatter(plots['lat'],plots['lng'], s=700, facecolors='none', edgecolors='r')"
   ]
  },
  {
   "cell_type": "markdown",
   "metadata": {},
   "source": [
    "### Define Resource Zones"
   ]
  },
  {
   "cell_type": "markdown",
   "metadata": {},
   "source": [
    "Length of 1 degree of Longitude = cosine (latitude in decimal degrees) * length of degree (miles) at equator.\n",
    "\n",
    "Convert your latitude into decimal degrees ~ 37.26383\n",
    "\n",
    "Convert your decimal degrees into radians ~ 0.65038\n",
    "\n",
    "Take the cosine of the value in radians ~ 0.79585\n",
    "\n",
    "1 degree of Longitude = ~0.79585 * 69.172 = ~ 55.051 miles\n",
    "\n",
    "Source: https://gis.stackexchange.com/questions/142326/calculating-longitude-length-in-miles"
   ]
  },
  {
   "cell_type": "code",
   "execution_count": 155,
   "metadata": {},
   "outputs": [
    {
     "data": {
      "text/plain": [
       "53.08036280602015"
      ]
     },
     "execution_count": 155,
     "metadata": {},
     "output_type": "execute_result"
    }
   ],
   "source": [
    "long = -104.8091197\n",
    "lat = 39.881899\n",
    "rad = 1 * np.pi/180\n",
    "length = np.cos(rad * lat)*69.172\n",
    "length"
   ]
  },
  {
   "cell_type": "markdown",
   "metadata": {},
   "source": [
    "### For the Denver metro area for every 10th degree of latitude it is aproximately 6.9 miles and for every 10th degree of longitude it is aproximately 5.3 miles."
   ]
  },
  {
   "cell_type": "code",
   "execution_count": 156,
   "metadata": {
    "scrolled": false
   },
   "outputs": [
    {
     "data": {
      "text/html": [
       "<div>\n",
       "<style scoped>\n",
       "    .dataframe tbody tr th:only-of-type {\n",
       "        vertical-align: middle;\n",
       "    }\n",
       "\n",
       "    .dataframe tbody tr th {\n",
       "        vertical-align: top;\n",
       "    }\n",
       "\n",
       "    .dataframe thead th {\n",
       "        text-align: right;\n",
       "    }\n",
       "</style>\n",
       "<table border=\"1\" class=\"dataframe\">\n",
       "  <thead>\n",
       "    <tr style=\"text-align: right;\">\n",
       "      <th></th>\n",
       "      <th>latitude</th>\n",
       "      <th>longitude</th>\n",
       "    </tr>\n",
       "    <tr>\n",
       "      <th>cluster</th>\n",
       "      <th></th>\n",
       "      <th></th>\n",
       "    </tr>\n",
       "  </thead>\n",
       "  <tbody>\n",
       "    <tr>\n",
       "      <th>0</th>\n",
       "      <td>39.548613</td>\n",
       "      <td>-104.771038</td>\n",
       "    </tr>\n",
       "    <tr>\n",
       "      <th>1</th>\n",
       "      <td>39.713901</td>\n",
       "      <td>-104.936533</td>\n",
       "    </tr>\n",
       "    <tr>\n",
       "      <th>2</th>\n",
       "      <td>39.742213</td>\n",
       "      <td>-105.109631</td>\n",
       "    </tr>\n",
       "    <tr>\n",
       "      <th>3</th>\n",
       "      <td>39.960952</td>\n",
       "      <td>-105.119310</td>\n",
       "    </tr>\n",
       "    <tr>\n",
       "      <th>4</th>\n",
       "      <td>40.026365</td>\n",
       "      <td>-105.281491</td>\n",
       "    </tr>\n",
       "  </tbody>\n",
       "</table>\n",
       "</div>"
      ],
      "text/plain": [
       "          latitude   longitude\n",
       "cluster                       \n",
       "0        39.548613 -104.771038\n",
       "1        39.713901 -104.936533\n",
       "2        39.742213 -105.109631\n",
       "3        39.960952 -105.119310\n",
       "4        40.026365 -105.281491"
      ]
     },
     "execution_count": 156,
     "metadata": {},
     "output_type": "execute_result"
    }
   ],
   "source": [
    "# simplify the plots by finding the zone averages\n",
    "zone_coordinates = plots.groupby(['cluster']).mean()\n",
    "zone_coordinates"
   ]
  },
  {
   "cell_type": "code",
   "execution_count": 157,
   "metadata": {
    "scrolled": false
   },
   "outputs": [
    {
     "data": {
      "text/plain": [
       "<matplotlib.collections.PathCollection at 0x1a2e8dd610>"
      ]
     },
     "execution_count": 157,
     "metadata": {},
     "output_type": "execute_result"
    },
    {
     "data": {
      "image/png": "[encoded data removed]",
      "text/plain": [
       "<Figure size 576x576 with 1 Axes>"
      ]
     },
     "metadata": {
      "needs_background": "light"
     },
     "output_type": "display_data"
    }
   ],
   "source": [
    "plt.figure(figsize = (8,8))\n",
    "plt.scatter(plots['latitude'],plots['longitude'],c=plots['cluster'],cmap = 'tab20', s=100)\n",
    "plt.scatter(zone_coordinates['latitude'],zone_coordinates['longitude'],c='r',marker='+')\n",
    "plt.scatter(zone_coordinates['latitude'],zone_coordinates['longitude'],facecolors='none', edgecolors='r',s=10000)\n"
   ]
  },
  {
   "cell_type": "code",
   "execution_count": 158,
   "metadata": {},
   "outputs": [
    {
     "data": {
      "text/plain": [
       "(0.13508, 0.17586)"
      ]
     },
     "execution_count": 158,
     "metadata": {},
     "output_type": "execute_result"
    }
   ],
   "source": [
    "# .1 = 6.9 miles (lat) & 5.3 miles (lng)\n",
    "# 1.60934 km = 1 mile\n",
    "km_lat = 1.60934 * 69\n",
    "km_lng = 1.60934 * 53\n",
    "km_lat_15 = np.round(15/(km_lat),5)\n",
    "km_lng_15 = np.round(15/(km_lng),5)\n",
    "\n",
    "km_lat_15 , km_lng_15"
   ]
  },
  {
   "cell_type": "code",
   "execution_count": 159,
   "metadata": {},
   "outputs": [],
   "source": [
    "def is_in_zone(lat,lng,center_lat,center_lng):\n",
    "    p = Point([center_lat, center_lng])\n",
    "    circle = p.buffer(.1)\n",
    "    test_point = Point([lat,lng])\n",
    "    return circle.contains(test_point)\n"
   ]
  },
  {
   "cell_type": "code",
   "execution_count": 160,
   "metadata": {},
   "outputs": [],
   "source": [
    "# function for counting lifelines in each zone\n",
    "def lifeline_counts_by_zone(data_df,zones_df):\n",
    "    df = data_df.copy()\n",
    "    df['zone'] = 20 \n",
    "    for z in range(len(zones_df)):\n",
    "\n",
    "        for p in range(len(data_df)):\n",
    "            result = is_in_zone(data_df.loc[p]['latitude'],data_df.loc[p]['longitude'],zones_df.loc[z]['latitude'],zones_df.loc[z]['longitude'])         \n",
    "            if result == True and df['zone'].loc[p] == 20:\n",
    "                df['zone'].loc[p] = z\n",
    "\n",
    "    return df"
   ]
  },
  {
   "cell_type": "code",
   "execution_count": 161,
   "metadata": {},
   "outputs": [
    {
     "name": "stderr",
     "output_type": "stream",
     "text": [
      "/Users/scottrosengrants/opt/anaconda3/lib/python3.7/site-packages/pandas/core/indexing.py:205: SettingWithCopyWarning: \n",
      "A value is trying to be set on a copy of a slice from a DataFrame\n",
      "\n",
      "See the caveats in the documentation: http://pandas.pydata.org/pandas-docs/stable/user_guide/indexing.html#returning-a-view-versus-a-copy\n",
      "  self._setitem_with_indexer(indexer, value)\n"
     ]
    }
   ],
   "source": [
    "data = lifeline_counts_by_zone(data,zone_coordinates)"
   ]
  },
  {
   "cell_type": "code",
   "execution_count": 162,
   "metadata": {},
   "outputs": [
    {
     "data": {
      "text/plain": [
       "1     339\n",
       "20    309\n",
       "2      83\n",
       "4      38\n",
       "3      36\n",
       "0      31\n",
       "Name: zone, dtype: int64"
      ]
     },
     "execution_count": 162,
     "metadata": {},
     "output_type": "execute_result"
    }
   ],
   "source": [
    "data['zone'].value_counts()"
   ]
  },
  {
   "cell_type": "code",
   "execution_count": 163,
   "metadata": {},
   "outputs": [
    {
     "name": "stderr",
     "output_type": "stream",
     "text": [
      "No handles with labels found to put in legend.\n"
     ]
    },
    {
     "data": {
      "text/plain": [
       "<matplotlib.collections.PathCollection at 0x1a2b38ef90>"
      ]
     },
     "execution_count": 163,
     "metadata": {},
     "output_type": "execute_result"
    },
    {
     "data": {
      "image/png": "[encoded data removed]",
      "text/plain": [
       "<Figure size 576x576 with 1 Axes>"
      ]
     },
     "metadata": {
      "needs_background": "light"
     },
     "output_type": "display_data"
    }
   ],
   "source": [
    "colors = data['zone'].map({0: 'green',1 :'blue' ,2:'orange',3:'red',4:'yellow',20:'grey'})\n",
    "plt.figure(figsize = (8,8))\n",
    "plt.scatter(data['latitude'],data['longitude'],c = colors, s=50)\n",
    "plt.legend()\n",
    "plt.scatter(zone_coordinates['latitude'],zone_coordinates['longitude'],facecolors='none', edgecolors='r',s=8000)\n"
   ]
  },
  {
   "cell_type": "code",
   "execution_count": 77,
   "metadata": {},
   "outputs": [],
   "source": [
    "#data.to_csv('../Data/20200218_zones.csv',index=False)"
   ]
  },
  {
   "cell_type": "code",
   "execution_count": null,
   "metadata": {},
   "outputs": [],
   "source": []
  }
 ],
 "metadata": {
  "kernelspec": {
   "display_name": "Python 3",
   "language": "python",
   "name": "python3"
  },
  "language_info": {
   "codemirror_mode": {
    "name": "ipython",
    "version": 3
   },
   "file_extension": ".py",
   "mimetype": "text/x-python",
   "name": "python",
   "nbconvert_exporter": "python",
   "pygments_lexer": "ipython3",
   "version": "3.7.4"
  }
 },
 "nbformat": 4,
 "nbformat_minor": 2
}
