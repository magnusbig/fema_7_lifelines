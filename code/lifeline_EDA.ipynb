{
 "cells": [
  {
   "cell_type": "code",
   "execution_count": 1,
   "metadata": {},
   "outputs": [],
   "source": [
    "import pandas as pd\n"
   ]
  },
  {
   "cell_type": "code",
   "execution_count": 70,
   "metadata": {},
   "outputs": [],
   "source": [
    "data = pd.read_csv('../data/data_with_lifeline_info_20200213.csv')"
   ]
  },
  {
   "cell_type": "code",
   "execution_count": 71,
   "metadata": {},
   "outputs": [
    {
     "data": {
      "text/html": [
       "<div>\n",
       "<style scoped>\n",
       "    .dataframe tbody tr th:only-of-type {\n",
       "        vertical-align: middle;\n",
       "    }\n",
       "\n",
       "    .dataframe tbody tr th {\n",
       "        vertical-align: top;\n",
       "    }\n",
       "\n",
       "    .dataframe thead th {\n",
       "        text-align: right;\n",
       "    }\n",
       "</style>\n",
       "<table border=\"1\" class=\"dataframe\">\n",
       "  <thead>\n",
       "    <tr style=\"text-align: right;\">\n",
       "      <th></th>\n",
       "      <th>geometry</th>\n",
       "      <th>name</th>\n",
       "      <th>plus_code</th>\n",
       "      <th>types</th>\n",
       "      <th>vicinity</th>\n",
       "      <th>latitude</th>\n",
       "      <th>longitude</th>\n",
       "      <th>lifeline_number</th>\n",
       "      <th>lifeline_category</th>\n",
       "    </tr>\n",
       "  </thead>\n",
       "  <tbody>\n",
       "    <tr>\n",
       "      <th>0</th>\n",
       "      <td>{'location': {'lat': 39.60806830000001, 'lng':...</td>\n",
       "      <td>Arapahoe Community College</td>\n",
       "      <td>{'compound_code': 'JX5J+6F Littleton, Colorado...</td>\n",
       "      <td>['university', 'point_of_interest', 'establish...</td>\n",
       "      <td>5900 South Santa Fe Drive, Littleton</td>\n",
       "      <td>39.608068</td>\n",
       "      <td>-105.018845</td>\n",
       "      <td>1</td>\n",
       "      <td>safety_security</td>\n",
       "    </tr>\n",
       "    <tr>\n",
       "      <th>1</th>\n",
       "      <td>{'location': {'lat': 39.6083415, 'lng': -105.0...</td>\n",
       "      <td>Arapahoe Community Clg Library</td>\n",
       "      <td>{'compound_code': 'JX5J+89 Littleton, Colorado...</td>\n",
       "      <td>['library', 'point_of_interest', 'establishment']</td>\n",
       "      <td>5900 South Santa Fe Drive, Littleton</td>\n",
       "      <td>39.608342</td>\n",
       "      <td>-105.019121</td>\n",
       "      <td>1</td>\n",
       "      <td>safety_security</td>\n",
       "    </tr>\n",
       "    <tr>\n",
       "      <th>2</th>\n",
       "      <td>{'location': {'lat': 39.6128785, 'lng': -105.0...</td>\n",
       "      <td>Arapahoe County Court</td>\n",
       "      <td>{'compound_code': 'JX7R+5F Littleton, Colorado...</td>\n",
       "      <td>['courthouse', 'point_of_interest', 'establish...</td>\n",
       "      <td>1790 West Littleton Boulevard, Littleton</td>\n",
       "      <td>39.612879</td>\n",
       "      <td>-105.008854</td>\n",
       "      <td>1</td>\n",
       "      <td>safety_security</td>\n",
       "    </tr>\n",
       "    <tr>\n",
       "      <th>3</th>\n",
       "      <td>{'location': {'lat': 39.61367430000001, 'lng':...</td>\n",
       "      <td>Littleton Municipal Court</td>\n",
       "      <td>{'compound_code': 'JX7Q+F3 Littleton, Colorado...</td>\n",
       "      <td>['courthouse', 'local_government_office', 'poi...</td>\n",
       "      <td>2069 West Littleton Boulevard, Littleton</td>\n",
       "      <td>39.613674</td>\n",
       "      <td>-105.012340</td>\n",
       "      <td>1</td>\n",
       "      <td>safety_security</td>\n",
       "    </tr>\n",
       "    <tr>\n",
       "      <th>4</th>\n",
       "      <td>{'location': {'lat': 39.613889, 'lng': -104.98...</td>\n",
       "      <td>Littleton High School</td>\n",
       "      <td>{'compound_code': 'J278+H3 Littleton, Colorado...</td>\n",
       "      <td>['secondary_school', 'school', 'point_of_inter...</td>\n",
       "      <td>199 East Littleton Boulevard, Littleton</td>\n",
       "      <td>39.613889</td>\n",
       "      <td>-104.984865</td>\n",
       "      <td>1</td>\n",
       "      <td>safety_security</td>\n",
       "    </tr>\n",
       "  </tbody>\n",
       "</table>\n",
       "</div>"
      ],
      "text/plain": [
       "                                            geometry  \\\n",
       "0  {'location': {'lat': 39.60806830000001, 'lng':...   \n",
       "1  {'location': {'lat': 39.6083415, 'lng': -105.0...   \n",
       "2  {'location': {'lat': 39.6128785, 'lng': -105.0...   \n",
       "3  {'location': {'lat': 39.61367430000001, 'lng':...   \n",
       "4  {'location': {'lat': 39.613889, 'lng': -104.98...   \n",
       "\n",
       "                             name  \\\n",
       "0      Arapahoe Community College   \n",
       "1  Arapahoe Community Clg Library   \n",
       "2           Arapahoe County Court   \n",
       "3       Littleton Municipal Court   \n",
       "4           Littleton High School   \n",
       "\n",
       "                                           plus_code  \\\n",
       "0  {'compound_code': 'JX5J+6F Littleton, Colorado...   \n",
       "1  {'compound_code': 'JX5J+89 Littleton, Colorado...   \n",
       "2  {'compound_code': 'JX7R+5F Littleton, Colorado...   \n",
       "3  {'compound_code': 'JX7Q+F3 Littleton, Colorado...   \n",
       "4  {'compound_code': 'J278+H3 Littleton, Colorado...   \n",
       "\n",
       "                                               types  \\\n",
       "0  ['university', 'point_of_interest', 'establish...   \n",
       "1  ['library', 'point_of_interest', 'establishment']   \n",
       "2  ['courthouse', 'point_of_interest', 'establish...   \n",
       "3  ['courthouse', 'local_government_office', 'poi...   \n",
       "4  ['secondary_school', 'school', 'point_of_inter...   \n",
       "\n",
       "                                   vicinity   latitude   longitude  \\\n",
       "0      5900 South Santa Fe Drive, Littleton  39.608068 -105.018845   \n",
       "1      5900 South Santa Fe Drive, Littleton  39.608342 -105.019121   \n",
       "2  1790 West Littleton Boulevard, Littleton  39.612879 -105.008854   \n",
       "3  2069 West Littleton Boulevard, Littleton  39.613674 -105.012340   \n",
       "4   199 East Littleton Boulevard, Littleton  39.613889 -104.984865   \n",
       "\n",
       "   lifeline_number lifeline_category  \n",
       "0                1   safety_security  \n",
       "1                1   safety_security  \n",
       "2                1   safety_security  \n",
       "3                1   safety_security  \n",
       "4                1   safety_security  "
      ]
     },
     "execution_count": 71,
     "metadata": {},
     "output_type": "execute_result"
    }
   ],
   "source": [
    "data.head()"
   ]
  },
  {
   "cell_type": "code",
   "execution_count": 88,
   "metadata": {
    "scrolled": true
   },
   "outputs": [],
   "source": [
    "duplicates = data[data.duplicated(subset = 'geometry',keep = False)]"
   ]
  },
  {
   "cell_type": "code",
   "execution_count": 91,
   "metadata": {
    "scrolled": true
   },
   "outputs": [
    {
     "data": {
      "text/html": [
       "<div>\n",
       "<style scoped>\n",
       "    .dataframe tbody tr th:only-of-type {\n",
       "        vertical-align: middle;\n",
       "    }\n",
       "\n",
       "    .dataframe tbody tr th {\n",
       "        vertical-align: top;\n",
       "    }\n",
       "\n",
       "    .dataframe thead th {\n",
       "        text-align: right;\n",
       "    }\n",
       "</style>\n",
       "<table border=\"1\" class=\"dataframe\">\n",
       "  <thead>\n",
       "    <tr style=\"text-align: right;\">\n",
       "      <th></th>\n",
       "      <th>geometry</th>\n",
       "      <th>name</th>\n",
       "      <th>types</th>\n",
       "      <th>lifeline_number</th>\n",
       "    </tr>\n",
       "  </thead>\n",
       "  <tbody>\n",
       "    <tr>\n",
       "      <th>50</th>\n",
       "      <td>{'location': {'lat': 39.67983, 'lng': -104.892...</td>\n",
       "      <td>Denver Metro Business Services</td>\n",
       "      <td>['moving_company', 'furniture_store', 'home_go...</td>\n",
       "      <td>1</td>\n",
       "    </tr>\n",
       "    <tr>\n",
       "      <th>94</th>\n",
       "      <td>{'location': {'lat': 39.7077864, 'lng': -105.0...</td>\n",
       "      <td>Target</td>\n",
       "      <td>['department_store', 'grocery_or_supermarket',...</td>\n",
       "      <td>1</td>\n",
       "    </tr>\n",
       "    <tr>\n",
       "      <th>97</th>\n",
       "      <td>{'location': {'lat': 39.7084263, 'lng': -104.9...</td>\n",
       "      <td>Target</td>\n",
       "      <td>['department_store', 'grocery_or_supermarket',...</td>\n",
       "      <td>1</td>\n",
       "    </tr>\n",
       "    <tr>\n",
       "      <th>151</th>\n",
       "      <td>{'location': {'lat': 39.730754, 'lng': -104.93...</td>\n",
       "      <td>Ninth Avenue Internal Medicine</td>\n",
       "      <td>['hospital', 'doctor', 'local_government_offic...</td>\n",
       "      <td>1</td>\n",
       "    </tr>\n",
       "    <tr>\n",
       "      <th>176</th>\n",
       "      <td>{'location': {'lat': 39.7399905, 'lng': -104.9...</td>\n",
       "      <td>Ace on The Fax</td>\n",
       "      <td>['hardware_store', 'car_dealer', 'point_of_int...</td>\n",
       "      <td>1</td>\n",
       "    </tr>\n",
       "    <tr>\n",
       "      <th>...</th>\n",
       "      <td>...</td>\n",
       "      <td>...</td>\n",
       "      <td>...</td>\n",
       "      <td>...</td>\n",
       "    </tr>\n",
       "    <tr>\n",
       "      <th>717</th>\n",
       "      <td>{'location': {'lat': 39.7117873, 'lng': -105.0...</td>\n",
       "      <td>Suncor Energy</td>\n",
       "      <td>['atm', 'gas_station', 'finance', 'car_repair'...</td>\n",
       "      <td>6</td>\n",
       "    </tr>\n",
       "    <tr>\n",
       "      <th>718</th>\n",
       "      <td>{'location': {'lat': 39.7158522, 'lng': -105.1...</td>\n",
       "      <td>Saint Anthony Hospital Central Heliport</td>\n",
       "      <td>['hospital', 'airport', 'point_of_interest', '...</td>\n",
       "      <td>6</td>\n",
       "    </tr>\n",
       "    <tr>\n",
       "      <th>740</th>\n",
       "      <td>{'location': {'lat': 39.7397093, 'lng': -104.9...</td>\n",
       "      <td>Capitol Hill Auto</td>\n",
       "      <td>['gas_station', 'car_repair', 'point_of_intere...</td>\n",
       "      <td>6</td>\n",
       "    </tr>\n",
       "    <tr>\n",
       "      <th>746</th>\n",
       "      <td>{'location': {'lat': 39.7399905, 'lng': -104.9...</td>\n",
       "      <td>Ace on The Fax</td>\n",
       "      <td>['hardware_store', 'car_dealer', 'point_of_int...</td>\n",
       "      <td>6</td>\n",
       "    </tr>\n",
       "    <tr>\n",
       "      <th>832</th>\n",
       "      <td>{'location': {'lat': 39.8433689, 'lng': -105.0...</td>\n",
       "      <td>Peerless Tires</td>\n",
       "      <td>['gas_station', 'car_repair', 'point_of_intere...</td>\n",
       "      <td>6</td>\n",
       "    </tr>\n",
       "  </tbody>\n",
       "</table>\n",
       "<p>88 rows × 4 columns</p>\n",
       "</div>"
      ],
      "text/plain": [
       "                                              geometry  \\\n",
       "50   {'location': {'lat': 39.67983, 'lng': -104.892...   \n",
       "94   {'location': {'lat': 39.7077864, 'lng': -105.0...   \n",
       "97   {'location': {'lat': 39.7084263, 'lng': -104.9...   \n",
       "151  {'location': {'lat': 39.730754, 'lng': -104.93...   \n",
       "176  {'location': {'lat': 39.7399905, 'lng': -104.9...   \n",
       "..                                                 ...   \n",
       "717  {'location': {'lat': 39.7117873, 'lng': -105.0...   \n",
       "718  {'location': {'lat': 39.7158522, 'lng': -105.1...   \n",
       "740  {'location': {'lat': 39.7397093, 'lng': -104.9...   \n",
       "746  {'location': {'lat': 39.7399905, 'lng': -104.9...   \n",
       "832  {'location': {'lat': 39.8433689, 'lng': -105.0...   \n",
       "\n",
       "                                        name  \\\n",
       "50            Denver Metro Business Services   \n",
       "94                                    Target   \n",
       "97                                    Target   \n",
       "151           Ninth Avenue Internal Medicine   \n",
       "176                           Ace on The Fax   \n",
       "..                                       ...   \n",
       "717                            Suncor Energy   \n",
       "718  Saint Anthony Hospital Central Heliport   \n",
       "740                        Capitol Hill Auto   \n",
       "746                           Ace on The Fax   \n",
       "832                           Peerless Tires   \n",
       "\n",
       "                                                 types  lifeline_number  \n",
       "50   ['moving_company', 'furniture_store', 'home_go...                1  \n",
       "94   ['department_store', 'grocery_or_supermarket',...                1  \n",
       "97   ['department_store', 'grocery_or_supermarket',...                1  \n",
       "151  ['hospital', 'doctor', 'local_government_offic...                1  \n",
       "176  ['hardware_store', 'car_dealer', 'point_of_int...                1  \n",
       "..                                                 ...              ...  \n",
       "717  ['atm', 'gas_station', 'finance', 'car_repair'...                6  \n",
       "718  ['hospital', 'airport', 'point_of_interest', '...                6  \n",
       "740  ['gas_station', 'car_repair', 'point_of_intere...                6  \n",
       "746  ['hardware_store', 'car_dealer', 'point_of_int...                6  \n",
       "832  ['gas_station', 'car_repair', 'point_of_intere...                6  \n",
       "\n",
       "[88 rows x 4 columns]"
      ]
     },
     "execution_count": 91,
     "metadata": {},
     "output_type": "execute_result"
    }
   ],
   "source": [
    "duplicates[['geometry','name','types','lifeline_number']]"
   ]
  },
  {
   "cell_type": "code",
   "execution_count": 92,
   "metadata": {},
   "outputs": [
    {
     "data": {
      "text/plain": [
       "['drugstore', 'convenience_store', 'food', 'health', 'point_of_interest', 'clothing_store', 'store', 'establishment']                                                                  40\n",
       "['convenience_store', 'gas_station', 'food', 'point_of_interest', 'store', 'establishment']                                                                                            18\n",
       "['atm', 'gas_station', 'finance', 'car_repair', 'point_of_interest', 'establishment']                                                                                                   6\n",
       "['gas_station', 'atm', 'car_wash', 'convenience_store', 'finance', 'food', 'point_of_interest', 'store', 'establishment']                                                               6\n",
       "['gas_station', 'car_repair', 'point_of_interest', 'store', 'establishment']                                                                                                            4\n",
       "['department_store', 'grocery_or_supermarket', 'electronics_store', 'furniture_store', 'home_goods_store', 'food', 'point_of_interest', 'clothing_store', 'store', 'establishment']     4\n",
       "['moving_company', 'furniture_store', 'home_goods_store', 'storage', 'point_of_interest', 'store', 'establishment']                                                                     2\n",
       "['hospital', 'university', 'health', 'point_of_interest', 'establishment']                                                                                                              2\n",
       "['hospital', 'airport', 'point_of_interest', 'establishment']                                                                                                                           2\n",
       "['hospital', 'doctor', 'local_government_office', 'health', 'point_of_interest', 'establishment']                                                                                       2\n",
       "['hardware_store', 'car_dealer', 'point_of_interest', 'store', 'establishment']                                                                                                         2\n",
       "Name: types, dtype: int64"
      ]
     },
     "execution_count": 92,
     "metadata": {},
     "output_type": "execute_result"
    }
   ],
   "source": [
    "duplicates['types'].value_counts()"
   ]
  },
  {
   "cell_type": "code",
   "execution_count": 99,
   "metadata": {},
   "outputs": [],
   "source": [
    "dup_sort = duplicates[['geometry','name','types','lifeline_number']].sort_values(by = ['geometry'])\n",
    "\n"
   ]
  },
  {
   "cell_type": "code",
   "execution_count": 109,
   "metadata": {},
   "outputs": [
    {
     "data": {
      "text/plain": [
       "(88, 4)"
      ]
     },
     "execution_count": 109,
     "metadata": {},
     "output_type": "execute_result"
    }
   ],
   "source": [
    "dup_sort.shape"
   ]
  },
  {
   "cell_type": "code",
   "execution_count": 105,
   "metadata": {},
   "outputs": [
    {
     "data": {
      "text/plain": [
       "\"['department_store', 'grocery_or_supermarket', 'electronics_store', 'furniture_store', 'home_goods_store', 'food', 'point_of_interest', 'clothing_store', 'store', 'establishment']\""
      ]
     },
     "execution_count": 105,
     "metadata": {},
     "output_type": "execute_result"
    }
   ],
   "source": [
    "data.loc[346]['types']"
   ]
  },
  {
   "cell_type": "code",
   "execution_count": null,
   "metadata": {},
   "outputs": [],
   "source": []
  }
 ],
 "metadata": {
  "kernelspec": {
   "display_name": "Python 3",
   "language": "python",
   "name": "python3"
  },
  "language_info": {
   "codemirror_mode": {
    "name": "ipython",
    "version": 3
   },
   "file_extension": ".py",
   "mimetype": "text/x-python",
   "name": "python",
   "nbconvert_exporter": "python",
   "pygments_lexer": "ipython3",
   "version": "3.7.4"
  }
 },
 "nbformat": 4,
 "nbformat_minor": 2
}
