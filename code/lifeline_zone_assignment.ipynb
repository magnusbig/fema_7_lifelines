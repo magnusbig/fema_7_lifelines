{
 "cells": [
  {
   "cell_type": "markdown",
   "metadata": {},
   "source": [
    "# FEMA Lifeline\n",
    "\n",
    "### Lifeline to Zone assignment\n",
    "\n",
    "Asssigning lifeline to zone.\n",
    "\n",
    "By: John Wertz"
   ]
  },
  {
   "cell_type": "code",
   "execution_count": 1,
   "metadata": {},
   "outputs": [],
   "source": [
    "#Import libraries\n",
    "import pandas as pd\n",
    "import numpy as np\n"
   ]
  },
  {
   "cell_type": "markdown",
   "metadata": {},
   "source": [
    "# Assigning lifeline to zone ection:"
   ]
  },
  {
   "cell_type": "code",
   "execution_count": 2,
   "metadata": {},
   "outputs": [],
   "source": [
    "# retrive data from '../data/20200218_zones.csv file\n",
    "df_zones = pd.read_csv('../data/20200218_zones.csv')"
   ]
  },
  {
   "cell_type": "code",
   "execution_count": 3,
   "metadata": {},
   "outputs": [],
   "source": [
    "zone_group = df_zones.groupby(['zone'])['lifeline_number'].value_counts()"
   ]
  },
  {
   "cell_type": "code",
   "execution_count": 4,
   "metadata": {},
   "outputs": [],
   "source": [
    "zone_ndx = []\n",
    "\n",
    "for x, y in zone_group.index:\n",
    "    if len(zone_ndx) == 0:\n",
    "        # Initialize variables\n",
    "        zone_ndx.append(x)\n",
    "        ndx = x\n",
    "    \n",
    "    if x != ndx:\n",
    "        zone_ndx.append(x)\n",
    "        ndx = x\n",
    "        \n",
    "zone_list = []\n",
    "lifeline_1_list = []\n",
    "lifeline_2_list = []\n",
    "lifeline_3_list = []\n",
    "lifeline_4_list = []\n",
    "lifeline_5_list = []\n",
    "lifeline_6_list = []\n",
    "lifeline_7_list = []\n",
    "\n",
    "for ndx in zone_ndx:\n",
    "    \n",
    "    lifeline_1_ndx = 0\n",
    "    lifeline_2_ndx = 0\n",
    "    lifeline_3_ndx = 0\n",
    "    lifeline_4_ndx = 0\n",
    "    lifeline_5_ndx = 0\n",
    "    lifeline_6_ndx = 0\n",
    "    lifeline_7_ndx = 0\n",
    "    \n",
    "    for x, y in zone_group.index:\n",
    "        if x == ndx:\n",
    "            if y == 1:\n",
    "                lifeline_1_ndx += zone_group[x][y]\n",
    "            if y == 2:\n",
    "                lifeline_2_ndx += zone_group[x][y]\n",
    "            if y == 3:\n",
    "                lifeline_3_ndx += zone_group[x][y]\n",
    "            if y == 4:\n",
    "                lifeline_4_ndx += zone_group[x][y]\n",
    "            if y == 5:\n",
    "                lifeline_5_ndx += zone_group[x][y]\n",
    "            if y == 6:\n",
    "                lifeline_6_ndx += zone_group[x][y]\n",
    "            if y == 7:\n",
    "                lifeline_7_ndx += zone_group[x][y]\n",
    "        else:\n",
    "            continue\n",
    "    \n",
    "    zone_list.append(ndx)\n",
    "    lifeline_1_list.append(lifeline_1_ndx)\n",
    "    lifeline_2_list.append(lifeline_2_ndx)\n",
    "    lifeline_3_list.append(lifeline_3_ndx)\n",
    "    lifeline_4_list.append(lifeline_4_ndx)\n",
    "    lifeline_5_list.append(lifeline_5_ndx)\n",
    "    lifeline_6_list.append(lifeline_6_ndx)\n",
    "    lifeline_7_list.append(lifeline_7_ndx)\n",
    "    \n",
    "    \n",
    "df_zone = pd.DataFrame({'zone': zone_list, \n",
    "                        'lifeline_1': lifeline_1_list, \n",
    "                        'lifeline_2': lifeline_2_list, \n",
    "                        'lifeline_3': lifeline_3_list, \n",
    "                        'lifeline_4': lifeline_4_list, \n",
    "                        'lifeline_5': lifeline_5_list, \n",
    "                        'lifeline_6': lifeline_6_list, \n",
    "                        'lifeline_7': lifeline_7_list})\n",
    "            \n"
   ]
  },
  {
   "cell_type": "code",
   "execution_count": 5,
   "metadata": {},
   "outputs": [],
   "source": [
    "# save data frame, cleaned.\n",
    "df_zone.to_csv('../data/lifelines_per_zone_20200220.csv', index = False)"
   ]
  },
  {
   "cell_type": "code",
   "execution_count": null,
   "metadata": {},
   "outputs": [],
   "source": []
  }
 ],
 "metadata": {
  "kernelspec": {
   "display_name": "Python 3",
   "language": "python",
   "name": "python3"
  },
  "language_info": {
   "codemirror_mode": {
    "name": "ipython",
    "version": 3
   },
   "file_extension": ".py",
   "mimetype": "text/x-python",
   "name": "python",
   "nbconvert_exporter": "python",
   "pygments_lexer": "ipython3",
   "version": "3.7.4"
  }
 },
 "nbformat": 4,
 "nbformat_minor": 2
}
