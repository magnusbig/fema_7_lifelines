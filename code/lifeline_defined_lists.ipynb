{
 "cells": [
  {
   "cell_type": "markdown",
   "metadata": {},
   "source": [
    "# Original Google Places API List\n",
    "accounting\n",
    "airport\n",
    "amusement_park\n",
    "aquarium\n",
    "art_gallery\n",
    "atm\n",
    "bakery\n",
    "bank\n",
    "bar\n",
    "beauty_salon\n",
    "bicycle_store\n",
    "book_store\n",
    "bowling_alley\n",
    "bus_station\n",
    "cafe\n",
    "campground\n",
    "car_dealer\n",
    "car_rental\n",
    "car_repair\n",
    "car_wash\n",
    "casino\n",
    "cemetery\n",
    "church\n",
    "city_hall\n",
    "clothing_store\n",
    "convenience_store\n",
    "courthouse\n",
    "dentist\n",
    "department_store\n",
    "doctor\n",
    "drugstore\n",
    "electrician\n",
    "electronics_store\n",
    "embassy\n",
    "fire_station\n",
    "florist\n",
    "funeral_home\n",
    "furniture_store\n",
    "gas_station\n",
    "grocery_or_supermarket\n",
    "gym\n",
    "hair_care\n",
    "hardware_store\n",
    "hindu_temple\n",
    "home_goods_store\n",
    "hospital\n",
    "insurance_agency\n",
    "jewelry_store\n",
    "laundry\n",
    "lawyer\n",
    "library\n",
    "light_rail_station\n",
    "liquor_store\n",
    "local_government_office\n",
    "locksmith\n",
    "lodging\n",
    "meal_delivery\n",
    "meal_takeaway\n",
    "mosque\n",
    "movie_rental\n",
    "movie_theater\n",
    "moving_company\n",
    "museum\n",
    "night_club\n",
    "painter\n",
    "park\n",
    "parking\n",
    "pet_store\n",
    "pharmacy\n",
    "physiotherapist\n",
    "plumber\n",
    "police\n",
    "post_office\n",
    "primary_school\n",
    "real_estate_agency\n",
    "restaurant\n",
    "roofing_contractor\n",
    "rv_park\n",
    "school\n",
    "secondary_school\n",
    "shoe_store\n",
    "shopping_mall\n",
    "spa\n",
    "stadium\n",
    "storage\n",
    "store\n",
    "subway_station\n",
    "supermarket\n",
    "synagogue\n",
    "taxi_stand\n",
    "tourist_attraction\n",
    "train_station\n",
    "transit_station\n",
    "travel_agency\n",
    "university\n",
    "veterinary_care\n",
    "zoo"
   ]
  },
  {
   "cell_type": "markdown",
   "metadata": {},
   "source": [
    "## Sublist Used"
   ]
  },
  {
   "cell_type": "code",
   "execution_count": 4,
   "metadata": {},
   "outputs": [],
   "source": [
    "# edited list \n",
    "places = [\n",
    "'airport',\n",
    "'atm',\n",
    "'bakery',\n",
    "'bank',\n",
    "'bus_station',\n",
    "'cafe',\n",
    "'campground',\n",
    "'car_dealer',\n",
    "'car_rental',\n",
    "'car_repair',\n",
    "'casino',\n",
    "'church',\n",
    "'city_hall',\n",
    "'convenience_store',\n",
    "'courthouse',\n",
    "'doctor',\n",
    "'drugstore',\n",
    "'embassy',\n",
    "'fire_station',\n",
    "'funeral_home',\n",
    "'gas_station',\n",
    "'grocery_or_supermarket',\n",
    "'hardware_store',\n",
    "'hindu_temple',\n",
    "#'home_goods_store',\n",
    "'hospital',\n",
    "'library',\n",
    "'light_rail_station',\n",
    "'local_government_office',\n",
    "'lodging',\n",
    "'meal_delivery',\n",
    "'meal_takeaway',\n",
    "'mosque',\n",
    "'moving_company',\n",
    "'pharmacy',\n",
    "'physiotherapist',\n",
    "'police',\n",
    "'post_office',\n",
    "'primary_school',\n",
    "'restaurant',\n",
    "'rv_park',\n",
    "'school',\n",
    "'secondary_school',\n",
    "'stadium',\n",
    "#'store',\n",
    "'subway_station',\n",
    "'supermarket',\n",
    "'synagogue',\n",
    "'taxi_stand',\n",
    "'train_station',\n",
    "'transit_station',\n",
    "'university',\n",
    "'veterinary_care'\n",
    "]"
   ]
  },
  {
   "cell_type": "markdown",
   "metadata": {},
   "source": [
    "## Lifeline #1 Safety & Security"
   ]
  },
  {
   "cell_type": "code",
   "execution_count": 6,
   "metadata": {},
   "outputs": [],
   "source": [
    "safety_security = [\n",
    "    'church',\n",
    "    'city_hall', \n",
    "    'courthouse',\n",
    "    'embassy',\n",
    "    'fire_station',\n",
    "    'library',\n",
    "    'local_government_office',\n",
    "    'police',\n",
    "    'post_office',\n",
    "    'synagogue',\n",
    "    'mosque',\n",
    "    'hindu_temple',\n",
    "    'primary_school',\n",
    "    'school',\n",
    "    'secondary_school',\n",
    "    'university',\n",
    "\n",
    "#    'home_goods_store',\n",
    "#    'store',\n",
    "]"
   ]
  },
  {
   "cell_type": "markdown",
   "metadata": {},
   "source": [
    "## Lifeline #2 Food, Water, Shelter"
   ]
  },
  {
   "cell_type": "code",
   "execution_count": 7,
   "metadata": {},
   "outputs": [],
   "source": [
    "food_water_shelter = [\n",
    "    'bakery',\n",
    "    'cafe',\n",
    "    'campground',\n",
    "    'casino',\n",
    "    'convenience_store',\n",
    "    'grocery_or_supermarket',\n",
    "    'lodging',\n",
    "    'meal_delivery',\n",
    "    'meal_takeaway',\n",
    "    'restaurant',\n",
    "    'rv_park',\n",
    "    'stadium',\n",
    "    'supermarket',\n",
    "    'hardware_store',  # removed from lifesline 1 and moved here\n",
    "    \n",
    "]"
   ]
  },
  {
   "cell_type": "markdown",
   "metadata": {},
   "source": [
    "## Lifeline # 3 Health & Medical"
   ]
  },
  {
   "cell_type": "code",
   "execution_count": 8,
   "metadata": {},
   "outputs": [],
   "source": [
    "health_medical = [\n",
    "    'doctor',\n",
    "    'drugstore',\n",
    "    'funeral_home',\n",
    "    'hospital',\n",
    "    'pharmacy',\n",
    "    'physiotherapist',\n",
    "    'veterinary_care'\n",
    "]\n"
   ]
  },
  {
   "cell_type": "markdown",
   "metadata": {},
   "source": [
    "## Lifeline #4 Energy"
   ]
  },
  {
   "cell_type": "code",
   "execution_count": 9,
   "metadata": {},
   "outputs": [],
   "source": [
    "energy = [\n",
    "    'gas_station',\n",
    "]"
   ]
  },
  {
   "cell_type": "markdown",
   "metadata": {},
   "source": [
    "## Lifeline #5 Communications "
   ]
  },
  {
   "cell_type": "code",
   "execution_count": 10,
   "metadata": {},
   "outputs": [],
   "source": [
    "communications = [\n",
    "    'atm',\n",
    "    'bank',\n",
    "]"
   ]
  },
  {
   "cell_type": "markdown",
   "metadata": {},
   "source": [
    "## Lifeline #6 Transportation"
   ]
  },
  {
   "cell_type": "code",
   "execution_count": 11,
   "metadata": {},
   "outputs": [],
   "source": [
    "transportation = [\n",
    "    'airport',\n",
    "    'subway_station',\n",
    "    'bus_station',\n",
    "    'car_dealer',\n",
    "    'car_rental',\n",
    "    'car_repair',\n",
    "    'light_rail_station',\n",
    "    'moving_company',\n",
    "    'taxi_stand',\n",
    "    'train_station',\n",
    "    'transit_station',\n",
    "\n",
    "]"
   ]
  },
  {
   "cell_type": "markdown",
   "metadata": {},
   "source": [
    "## Lifeline #7 Hazardous Materials"
   ]
  },
  {
   "cell_type": "code",
   "execution_count": 12,
   "metadata": {},
   "outputs": [],
   "source": [
    "hazard_mtrl = []"
   ]
  },
  {
   "cell_type": "code",
   "execution_count": null,
   "metadata": {},
   "outputs": [],
   "source": []
  }
 ],
 "metadata": {
  "kernelspec": {
   "display_name": "Python 3",
   "language": "python",
   "name": "python3"
  },
  "language_info": {
   "codemirror_mode": {
    "name": "ipython",
    "version": 3
   },
   "file_extension": ".py",
   "mimetype": "text/x-python",
   "name": "python",
   "nbconvert_exporter": "python",
   "pygments_lexer": "ipython3",
   "version": "3.7.4"
  }
 },
 "nbformat": 4,
 "nbformat_minor": 2
}
